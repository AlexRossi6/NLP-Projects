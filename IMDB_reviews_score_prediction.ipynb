{
  "nbformat": 4,
  "nbformat_minor": 0,
  "metadata": {
    "colab": {
      "name": "IMDB_reviews_score_prediction.ipynb",
      "provenance": [],
      "collapsed_sections": [],
      "toc_visible": true,
      "include_colab_link": true
    },
    "kernelspec": {
      "name": "python3",
      "display_name": "Python 3"
    }
  },
  "cells": [
    {
      "cell_type": "markdown",
      "metadata": {
        "id": "view-in-github",
        "colab_type": "text"
      },
      "source": [
        "<a href=\"https://colab.research.google.com/github/guyez/NLP/blob/main/IMDB_reviews_score_prediction.ipynb\" target=\"_parent\"><img src=\"https://colab.research.google.com/assets/colab-badge.svg\" alt=\"Open In Colab\"/></a>"
      ]
    },
    {
      "cell_type": "markdown",
      "metadata": {
        "id": "F8aVUWrD3LeW"
      },
      "source": [
        "## Preliminary Steps\n",
        "These are some preliminary steps before addressing the task.\n",
        "Import some basic libraries and set a variable that will be used in multiple steps."
      ]
    },
    {
      "cell_type": "code",
      "metadata": {
        "id": "of3D92OeWV8_"
      },
      "source": [
        "# The libraries we will use are imported here, in case of runtime problems\n",
        "import os, shutil  #  file management\n",
        "import sys\n",
        "import pandas as pd  #  dataframe management\n",
        "import numpy as np  #  data manipulation"
      ],
      "execution_count": null,
      "outputs": []
    },
    {
      "cell_type": "code",
      "metadata": {
        "id": "AgXmCToDOAbQ"
      },
      "source": [
        "dataset_name = \"aclImdb\""
      ],
      "execution_count": null,
      "outputs": []
    },
    {
      "cell_type": "markdown",
      "metadata": {
        "id": "d--rS8W95i62"
      },
      "source": [
        "## Dataset Download\n",
        "Dowload the Imdb movie reviews dataset\n"
      ]
    },
    {
      "cell_type": "code",
      "metadata": {
        "id": "aLNJIfZg4_d9",
        "outputId": "38cb448c-cc76-47de-d4a8-94882448cbd4",
        "colab": {
          "base_uri": "https://localhost:8080/",
          "height": 33
        }
      },
      "source": [
        "import urllib.request  #  download files\n",
        "import tarfile  #  unzip files\n",
        "\n",
        "dataset_folder = os.path.join(os.getcwd(), \"Datasets\", \"Original\")\n",
        "\n",
        "if not os.path.exists(dataset_folder):\n",
        "    os.makedirs(dataset_folder)\n",
        "\n",
        "url = 'http://ai.stanford.edu/~amaas/data/sentiment/aclImdb_v1.tar.gz'\n",
        "\n",
        "dataset_path = os.path.join(dataset_folder, \"Movies.tar.gz\")\n",
        "\n",
        "if not os.path.exists(dataset_path):\n",
        "    urllib.request.urlretrieve(url, dataset_path)\n",
        "    print(\"Successful download\")\n",
        "\n",
        "tar = tarfile.open(dataset_path)\n",
        "tar.extractall(dataset_folder)\n",
        "tar.close()\n",
        "print(\"Successful extraction\")"
      ],
      "execution_count": null,
      "outputs": [
        {
          "output_type": "stream",
          "text": [
            "Successful extraction\n"
          ],
          "name": "stdout"
        }
      ]
    },
    {
      "cell_type": "markdown",
      "metadata": {
        "id": "-FexYdgu87Q3"
      },
      "source": [
        "## Create the dataframe\n",
        "Now the dataset is loaded into a dataframe to be more accessible.\n",
        "During the creation some data will be printed as an example."
      ]
    },
    {
      "cell_type": "code",
      "metadata": {
        "id": "4u8aN92x9Aw1",
        "outputId": "ee806407-e88d-4a11-fb5c-e9ad2a1c8c7f",
        "colab": {
          "base_uri": "https://localhost:8080/",
          "height": 170
        }
      },
      "source": [
        "dataset_name = \"aclImdb\"\n",
        "\n",
        "debug = True\n",
        "\n",
        "dataframe_rows = []\n",
        "\n",
        "for split in ['train', 'test']:\n",
        "    for sentiment in ['pos', 'neg']:\n",
        "        folder = os.path.join(os.getcwd(), \"Datasets\", \"Original\", dataset_name, split, sentiment)\n",
        "        for filename in os.listdir(folder):\n",
        "            file_path = os.path.join(folder, filename)\n",
        "            try:\n",
        "                if os.path.isfile(file_path):\n",
        "                    # open the file\n",
        "                    with open(file_path, mode='r', encoding='utf-8') as text_file:\n",
        "                        # read it and extract informations\n",
        "                        text = text_file.read()\n",
        "                        score = filename.split(\"_\")[1].split(\".\")[0]\n",
        "                        file_id = filename.split(\"_\")[0]\n",
        "\n",
        "                        num_sentiment = -1\n",
        "\n",
        "                        if sentiment == \"pos\" : num_sentiment = 1\n",
        "                        elif sentiment == \"neg\" : num_sentiment = 0\n",
        "\n",
        "                        # create single dataframe row\n",
        "                        dataframe_row = {\n",
        "                            \"file_id\": file_id,\n",
        "                            \"score\": score,\n",
        "                            \"sentiment\": num_sentiment,\n",
        "                            \"split\": split,\n",
        "                            \"text\": text\n",
        "                        }\n",
        "\n",
        "                        # print detailed info for the first file\n",
        "                        if debug:\n",
        "                            print(file_path)\n",
        "                            print(filename)\n",
        "                            print(file_id)\n",
        "                            print(text)\n",
        "                            print(score)\n",
        "                            print(sentiment)\n",
        "                            print(split)\n",
        "                            print(dataframe_row)\n",
        "                            debug = False\n",
        "                        dataframe_rows.append(dataframe_row)\n",
        "\n",
        "            except Exception as e:\n",
        "                print('Failed to process %s. Reason: %s' % (file_path, e))\n",
        "                sys.exit(0)\n",
        "\n",
        "folder = os.path.join(os.getcwd(), \"Datasets\", \"Dataframes\", dataset_name)\n",
        "if not os.path.exists(folder):\n",
        "    os.makedirs(folder)\n",
        "\n",
        "# transform the list of rows in a proper dataframe\n",
        "dataframe = pd.DataFrame(dataframe_rows)\n",
        "dataframe = dataframe[[\"file_id\",\n",
        "                       \"score\",\n",
        "                       \"sentiment\",\n",
        "                       \"split\",\n",
        "                       \"text\"]]\n",
        "dataframe_path = os.path.join(folder, dataset_name + \".pkl\")\n",
        "dataframe.to_pickle(dataframe_path)"
      ],
      "execution_count": null,
      "outputs": [
        {
          "output_type": "stream",
          "text": [
            "/content/Datasets/Original/aclImdb/train/pos/5323_7.txt\n",
            "5323_7.txt\n",
            "5323\n",
            "There are a number of things that are not correct, although this is not too important since what happened to whom and when is still in dispute. The most blatant liberty with the facts I think is when they start to play at Bruno Koschmidder's Kaiserkeller, when in fact they played at the Indra and moved to the Kaiserkeller later.<br /><br />I agree with Semprinni20 that the film was biased in favour of Pete Best's version, but if he is the story consultant then I guess he calls the shots. I also agree with Semprinni that the recordings Pete Best plays on say the last word on the subject of why he was fired.<br /><br />Although the film is not such a lavish production as the later film \"Backbeat\", I prefer this film because it is more accurate, and because it has a better script with deeper characterisation.<br /><br />There is plenty in the film that is quite substantial - such as Brian Epstein trying to hide the fact that he has been \"queer-bashed,\" only to find out that the band knew he was Gay all along. Little touches like the band going into a café and ordering \"Corn-Flakes mit Milch.\" My favourite scene, which does have some bassis in fact, is where at an audition Stuart Sutcliffe has just bought his bass guitar but can't play it, so he stands with his back to the impresario and tries faking it, but gets caught. That's rock 'n' roll.<br /><br />Well worth watching.\n",
            "7\n",
            "pos\n",
            "train\n",
            "{'file_id': '5323', 'score': '7', 'sentiment': 1, 'split': 'train', 'text': 'There are a number of things that are not correct, although this is not too important since what happened to whom and when is still in dispute. The most blatant liberty with the facts I think is when they start to play at Bruno Koschmidder\\'s Kaiserkeller, when in fact they played at the Indra and moved to the Kaiserkeller later.<br /><br />I agree with Semprinni20 that the film was biased in favour of Pete Best\\'s version, but if he is the story consultant then I guess he calls the shots. I also agree with Semprinni that the recordings Pete Best plays on say the last word on the subject of why he was fired.<br /><br />Although the film is not such a lavish production as the later film \"Backbeat\", I prefer this film because it is more accurate, and because it has a better script with deeper characterisation.<br /><br />There is plenty in the film that is quite substantial - such as Brian Epstein trying to hide the fact that he has been \"queer-bashed,\" only to find out that the band knew he was Gay all along. Little touches like the band going into a café and ordering \"Corn-Flakes mit Milch.\" My favourite scene, which does have some bassis in fact, is where at an audition Stuart Sutcliffe has just bought his bass guitar but can\\'t play it, so he stands with his back to the impresario and tries faking it, but gets caught. That\\'s rock \\'n\\' roll.<br /><br />Well worth watching.'}\n"
          ],
          "name": "stdout"
        }
      ]
    },
    {
      "cell_type": "markdown",
      "metadata": {
        "id": "fH_BAvFKF76g"
      },
      "source": [
        "Little analysis of the dataframe"
      ]
    },
    {
      "cell_type": "code",
      "metadata": {
        "id": "GCs9IEO5F-Vt"
      },
      "source": [
        "dataframe_path = os.path.join(os.getcwd(), \"Datasets\", \"Dataframes\", dataset_name, dataset_name + \".pkl\")\n",
        "df = pd.read_pickle(dataframe_path)\n",
        "\n",
        "print(\"Dataframe structure:\")\n",
        "print(df)\n",
        "print()\n",
        "\n",
        "\n",
        "print(\"Total rows %d\" % (len(df)))\n",
        "print()\n",
        "\n",
        "column = 'score'\n",
        "print(\"Distribution of scores: \")\n",
        "print(df[column].value_counts())\n",
        "print()\n",
        "\n",
        "column = 'sentiment'\n",
        "print(\"Distribution of sentiment: \")\n",
        "print(df[column].value_counts())\n",
        "print()\n",
        "\n",
        "\n",
        "for split in [\"train\", \"test\"]:\n",
        "    df1 = df.loc[df['split'] == split]\n",
        "    column = 'score'\n",
        "    print(\"Distribution of scores in %s: \" % (split))\n",
        "    print(df1[column].value_counts())\n",
        "    print()"
      ],
      "execution_count": null,
      "outputs": []
    },
    {
      "cell_type": "markdown",
      "metadata": {
        "id": "jdyiSxMd6c2I"
      },
      "source": [
        "##Preprocess"
      ]
    },
    {
      "cell_type": "markdown",
      "metadata": {
        "id": "hjOitIcaNv0S"
      },
      "source": [
        "Apostrophes connecting words are used everywhere, especially in public reviews. To maintain uniform structure I converted them into standard lexicons. The text will then follow the rules of context free grammar and helps avoids any word-sense disambiguation.\n",
        "I have found an apostrophe dictionary from user comments on analytics vidhy blog. "
      ]
    },
    {
      "cell_type": "code",
      "metadata": {
        "id": "4nA6X_XOyohL"
      },
      "source": [
        "appos = {\n",
        "\"aren't\" : \"are not\",\n",
        "\"can't\" : \"cannot\",\n",
        "\"couldn't\" : \"could not\",\n",
        "\"didn't\" : \"did not\",\n",
        "\"doesn't\" : \"does not\",\n",
        "\"don't\" : \"do not\",\n",
        "\"hadn't\" : \"had not\",\n",
        "\"hasn't\" : \"has not\",\n",
        "\"haven't\" : \"have not\",\n",
        "\"he'd\" : \"he would\",\n",
        "\"he'll\" : \"he will\",\n",
        "\"he's\" : \"he is\",\n",
        "\"i'd\" : \"I would\",\n",
        "\"i'd\" : \"I had\",\n",
        "\"i'll\" : \"I will\",\n",
        "\"i'm\" : \"I am\",\n",
        "\"isn't\" : \"is not\",\n",
        "\"it's\" : \"it is\",\n",
        "\"it'll\":\"it will\",\n",
        "\"i've\" : \"I have\",\n",
        "\"let's\" : \"let us\",\n",
        "\"mightn't\" : \"might not\",\n",
        "\"mustn't\" : \"must not\",\n",
        "\"shan't\" : \"shall not\",\n",
        "\"she'd\" : \"she would\",\n",
        "\"she'll\" : \"she will\",\n",
        "\"she's\" : \"she is\",\n",
        "\"shouldn't\" : \"should not\",\n",
        "\"that's\" : \"that is\",\n",
        "\"there's\" : \"there is\",\n",
        "\"they'd\" : \"they would\",\n",
        "\"they'll\" : \"they will\",\n",
        "\"they're\" : \"they are\",\n",
        "\"they've\" : \"they have\",\n",
        "\"we'd\" : \"we would\",\n",
        "\"we're\" : \"we are\",\n",
        "\"weren't\" : \"were not\",\n",
        "\"we've\" : \"we have\",\n",
        "\"what'll\" : \"what will\",\n",
        "\"what're\" : \"what are\",\n",
        "\"what's\" : \"what is\",\n",
        "\"what've\" : \"what have\",\n",
        "\"where's\" : \"where is\",\n",
        "\"who'd\" : \"who would\",\n",
        "\"who'll\" : \"who will\",\n",
        "\"who're\" : \"who are\",\n",
        "\"who's\" : \"who is\",\n",
        "\"who've\" : \"who have\",\n",
        "\"won't\" : \"will not\",\n",
        "\"wouldn't\" : \"would not\",\n",
        "\"you'd\" : \"you would\",\n",
        "\"you'll\" : \"you will\",\n",
        "\"you're\" : \"you are\",\n",
        "\"you've\" : \"you have\",\n",
        "\"'re\": \" are\",\n",
        "\"wasn't\": \"was not\",\n",
        "\"we'll\":\" will\",\n",
        "\"didn't\": \"did not\"\n",
        "}"
      ],
      "execution_count": null,
      "outputs": []
    },
    {
      "cell_type": "code",
      "metadata": {
        "id": "sF8sy1P8EECr"
      },
      "source": [
        "import re\n",
        "from nltk.stem.porter import PorterStemmer\n",
        "\n",
        "\n",
        "def preprocessor(text):\n",
        "  # Remove html tags\n",
        "  text = re.sub('<[^>]*>', '', text)\n",
        "  # Regex to find all the emoticons\n",
        "  emoticons = re.findall('(?::|;|=)(?:-)?(?:\\)|\\(|D|P)', text)\n",
        "  text = text.lower()\n",
        "  words = text.split()\n",
        "  # Substitue apostrophes using the predefined dictionary\n",
        "  split = [appos[word] if word in appos else word for word in words]\n",
        "  text = \" \".join(split)\n",
        "  # Move all the emojis to the end of the sentence\n",
        "  # This is so that the model can make use of the sequence of the text\n",
        "  # and also ascertain the sentiment of the emojis at the end of the sentences.\n",
        "  text = re.sub('[\\W]+', ' ', text) + ' '.join(emoticons).replace('-', '')\n",
        "  return text\n",
        "\n",
        "porter = PorterStemmer()\n",
        "\n",
        "def tokenizer_stemmer(text):\n",
        "  # Perform a word-level preprocessing tasks using a PorterStemmer\n",
        "  return[porter.stem(word) for word in text.split()]"
      ],
      "execution_count": null,
      "outputs": []
    },
    {
      "cell_type": "code",
      "metadata": {
        "id": "xtraxB8Chf9X"
      },
      "source": [
        "dataframe_path = os.path.join(os.getcwd(), \"Datasets\", \"Dataframes\", dataset_name, dataset_name + \".pkl\")\n",
        "df = pd.read_pickle(dataframe_path)\n",
        "\n",
        "# select only the training sentences\n",
        "df_train = df.loc[df['split'] == \"train\"]\n",
        "train_corpus = df_train['text'].tolist()\n",
        "Y_train = np.array(df_train['score'].astype('int').tolist())\n",
        "\n",
        "# select only the test sentences\n",
        "df_test = df.loc[df['split'] == \"test\"]\n",
        "test_corpus = df_test['text'].tolist()\n",
        "Y_test = np.array(df_test['score'].astype('int').tolist())"
      ],
      "execution_count": null,
      "outputs": []
    },
    {
      "cell_type": "code",
      "metadata": {
        "id": "o9cfsZ7alTfs",
        "outputId": "00d426ca-a8b8-49fa-83a4-f376752f1ed0",
        "colab": {
          "base_uri": "https://localhost:8080/",
          "height": 220
        }
      },
      "source": [
        "example = train_corpus[0]\n",
        "example"
      ],
      "execution_count": null,
      "outputs": [
        {
          "output_type": "execute_result",
          "data": {
            "application/vnd.google.colaboratory.intrinsic+json": {
              "type": "string"
            },
            "text/plain": [
              "'There are a number of things that are not correct, although this is not too important since what happened to whom and when is still in dispute. The most blatant liberty with the facts I think is when they start to play at Bruno Koschmidder\\'s Kaiserkeller, when in fact they played at the Indra and moved to the Kaiserkeller later.<br /><br />I agree with Semprinni20 that the film was biased in favour of Pete Best\\'s version, but if he is the story consultant then I guess he calls the shots. I also agree with Semprinni that the recordings Pete Best plays on say the last word on the subject of why he was fired.<br /><br />Although the film is not such a lavish production as the later film \"Backbeat\", I prefer this film because it is more accurate, and because it has a better script with deeper characterisation.<br /><br />There is plenty in the film that is quite substantial - such as Brian Epstein trying to hide the fact that he has been \"queer-bashed,\" only to find out that the band knew he was Gay all along. Little touches like the band going into a café and ordering \"Corn-Flakes mit Milch.\" My favourite scene, which does have some bassis in fact, is where at an audition Stuart Sutcliffe has just bought his bass guitar but can\\'t play it, so he stands with his back to the impresario and tries faking it, but gets caught. That\\'s rock \\'n\\' roll.<br /><br />Well worth watching.'"
            ]
          },
          "metadata": {
            "tags": []
          },
          "execution_count": 50
        }
      ]
    },
    {
      "cell_type": "code",
      "metadata": {
        "id": "MWPig-FZlbJU",
        "outputId": "60f16a63-37ea-4685-86a4-1340705ffdbf",
        "colab": {
          "base_uri": "https://localhost:8080/",
          "height": 203
        }
      },
      "source": [
        "example_preprocessed = preprocessor(example)\n",
        "example_preprocessed"
      ],
      "execution_count": null,
      "outputs": [
        {
          "output_type": "execute_result",
          "data": {
            "application/vnd.google.colaboratory.intrinsic+json": {
              "type": "string"
            },
            "text/plain": [
              "'there are a number of things that are not correct although this is not too important since what happened to whom and when is still in dispute the most blatant liberty with the facts i think is when they start to play at bruno koschmidder s kaiserkeller when in fact they played at the indra and moved to the kaiserkeller later i agree with semprinni20 that the film was biased in favour of pete best s version but if he is the story consultant then i guess he calls the shots i also agree with semprinni that the recordings pete best plays on say the last word on the subject of why he was fired although the film is not such a lavish production as the later film backbeat i prefer this film because it is more accurate and because it has a better script with deeper characterisation there is plenty in the film that is quite substantial such as brian epstein trying to hide the fact that he has been queer bashed only to find out that the band knew he was gay all along little touches like the band going into a café and ordering corn flakes mit milch my favourite scene which does have some bassis in fact is where at an audition stuart sutcliffe has just bought his bass guitar but cannot play it so he stands with his back to the impresario and tries faking it but gets caught that is rock n roll well worth watching '"
            ]
          },
          "metadata": {
            "tags": []
          },
          "execution_count": 52
        }
      ]
    },
    {
      "cell_type": "code",
      "metadata": {
        "id": "_B5LYolUlpBv",
        "outputId": "65533930-2570-444e-8b03-17677582fc42",
        "colab": {
          "base_uri": "https://localhost:8080/",
          "height": 186
        }
      },
      "source": [
        "example_stemmed = \" \".join(tokenizer_stemmer(example_preprocessed))\n",
        "example_stemmed"
      ],
      "execution_count": null,
      "outputs": [
        {
          "output_type": "execute_result",
          "data": {
            "application/vnd.google.colaboratory.intrinsic+json": {
              "type": "string"
            },
            "text/plain": [
              "'there are a number of thing that are not correct although thi is not too import sinc what happen to whom and when is still in disput the most blatant liberti with the fact i think is when they start to play at bruno koschmidd s kaiserkel when in fact they play at the indra and move to the kaiserkel later i agre with semprinni20 that the film wa bias in favour of pete best s version but if he is the stori consult then i guess he call the shot i also agre with semprinni that the record pete best play on say the last word on the subject of whi he wa fire although the film is not such a lavish product as the later film backbeat i prefer thi film becaus it is more accur and becaus it ha a better script with deeper characteris there is plenti in the film that is quit substanti such as brian epstein tri to hide the fact that he ha been queer bash onli to find out that the band knew he wa gay all along littl touch like the band go into a café and order corn flake mit milch my favourit scene which doe have some bassi in fact is where at an audit stuart sutcliff ha just bought hi bass guitar but cannot play it so he stand with hi back to the impresario and tri fake it but get caught that is rock n roll well worth watch'"
            ]
          },
          "metadata": {
            "tags": []
          },
          "execution_count": 58
        }
      ]
    },
    {
      "cell_type": "markdown",
      "metadata": {
        "id": "Xe5NPH5Gb5FI"
      },
      "source": [
        "## Training and Testing\n"
      ]
    },
    {
      "cell_type": "code",
      "metadata": {
        "id": "H8MehLiMachA"
      },
      "source": [
        "\"\"\"from sklearn.feature_extraction.text import  TfidfVectorizer\n",
        "from sklearn.linear_model import LogisticRegression\n",
        "from sklearn.model_selection import GridSearchCV\n",
        "from sklearn.pipeline import Pipeline\n",
        "\n",
        "# In practice I’ve found that using NLTK’s list actually decreases my performance because its too expansive,\n",
        "# so I have suppllied my own list of words.\n",
        "stop_words = ['in', 'of', 'at', 'a', 'the', 'for']\n",
        "\n",
        "\n",
        "# Pipeline & Gridsearch setup\n",
        "# TFIDF pipeline setup\n",
        "tvc_pipe = Pipeline([\n",
        "('tvec', TfidfVectorizer(tokenizer = tokenizer_stemmer, preprocessor = preprocessor, stop_words = stop_words)),\n",
        "('lg', LogisticRegression(max_iter=1000))\n",
        "])\n",
        "\n",
        "\n",
        "# Fit\n",
        "tvc_pipe.fit(train_corpus, Y_train)\n",
        "\n",
        "\n",
        "\n",
        "# Setting params for TFIDF Vectorizer gridsearch\n",
        "tf_params = {\n",
        "'tvec__max_df': [1.0, 0.4, 0.1],\n",
        "'tvec__min_df': [1.0, 0.1, 0.00001],\n",
        "'tvec__stop_words': [stop_words],\n",
        "'tvec__max_features': [10000, 30000, 50000],\n",
        "'tvec__ngram_range': [(1,1), (1, 2), (1,3)],\n",
        "}\n",
        "\"\"\""
      ],
      "execution_count": null,
      "outputs": []
    },
    {
      "cell_type": "code",
      "metadata": {
        "id": "bL8aLoa3a6yK"
      },
      "source": [
        "\"\"\"# Setting up GridSearch for TFIDFVectorizer\n",
        "tvc_gs = GridSearchCV(tvc_pipe, param_grid=tf_params, cv = 5, verbose =1, n_jobs = -1)\n",
        "# Fitting TVC GS\n",
        "tvc_gs.fit(train_corpus, Y_train)\"\"\""
      ],
      "execution_count": null,
      "outputs": []
    },
    {
      "cell_type": "code",
      "metadata": {
        "id": "ytXhKBh2WOX3"
      },
      "source": [
        "#tvc_gs.best_params_"
      ],
      "execution_count": null,
      "outputs": []
    },
    {
      "cell_type": "code",
      "metadata": {
        "id": "XAJuWYjXhqaZ"
      },
      "source": [
        "# Definition of the vectorizer using the best params found\n",
        "from sklearn.feature_extraction.text import  TfidfVectorizer\n",
        "\n",
        "# In practice I’ve found that using NLTK’s list actually decreases my performance because its too expansive,\n",
        "# so I have suppllied my own list of words.\n",
        "stop_words = ['in', 'of', 'at', 'a', 'the', 'for']\n",
        "\n",
        "vectorizer = TfidfVectorizer(tokenizer = tokenizer_stemmer,\n",
        "                             preprocessor = preprocessor,\n",
        "                             max_df= 0.4,\n",
        "                             min_df= 1e-04,\n",
        "                             stop_words = stop_words,\n",
        "                             max_features = 30000,\n",
        "                             ngram_range = (1, 3),\n",
        "                             smooth_idf = False,\n",
        "                             sublinear_tf= True)\n",
        "\n",
        "\n",
        "X_train = vectorizer.fit_transform(train_corpus)\n",
        "\n",
        "X_test = vectorizer.transform(test_corpus)"
      ],
      "execution_count": null,
      "outputs": []
    },
    {
      "cell_type": "markdown",
      "metadata": {
        "id": "Y8uSc7aYYdke"
      },
      "source": [
        "Our dataset is unbalanced (it has more samples for some scores than others). This can make the classifier biased toward the one or two scores with lost of samples, while dwarfing others that have less (i.e. the classifier learns the classes with more samples better and remains weak on the smaller classes).\n",
        "\n",
        "There are various methods to do this. In this case I have chosen to use the SMOTE algorithm because seems to work well for the Logistic Regression classifier."
      ]
    },
    {
      "cell_type": "code",
      "metadata": {
        "id": "kSiZV8Ep644r",
        "outputId": "bf7ce134-c5e6-46a4-c267-1468c565d361",
        "colab": {
          "base_uri": "https://localhost:8080/",
          "height": 281
        }
      },
      "source": [
        "%matplotlib inline\n",
        "import matplotlib.pyplot as plt\n",
        "\n",
        "plt.hist(Y_train, edgecolor='k', bins = [1,2,3,4,5,6,7,8,9,10,11]) \n",
        "plt.title('Histogram of the scores')\n",
        "plt.show()"
      ],
      "execution_count": null,
      "outputs": [
        {
          "output_type": "display_data",
          "data": {
            "image/png": "[encoded data removed]",
            "text/plain": [
              "<Figure size 432x288 with 1 Axes>"
            ]
          },
          "metadata": {
            "tags": [],
            "needs_background": "light"
          }
        }
      ]
    },
    {
      "cell_type": "code",
      "metadata": {
        "id": "l1xLypzSMRJN",
        "outputId": "9b11635e-198d-4cb2-a296-fff91a83bd9d",
        "colab": {
          "base_uri": "https://localhost:8080/",
          "height": 70
        }
      },
      "source": [
        "from imblearn.over_sampling import SMOTE\n",
        "\n",
        "over = SMOTE()\n",
        "X_train, Y_train = over.fit_resample(X_train, Y_train)"
      ],
      "execution_count": null,
      "outputs": [
        {
          "output_type": "stream",
          "text": [
            "/usr/local/lib/python3.6/dist-packages/sklearn/utils/deprecation.py:87: FutureWarning: Function safe_indexing is deprecated; safe_indexing is deprecated in version 0.22 and will be removed in version 0.24.\n",
            "  warnings.warn(msg, category=FutureWarning)\n"
          ],
          "name": "stderr"
        }
      ]
    },
    {
      "cell_type": "code",
      "metadata": {
        "id": "hBZGrHvg7ugC",
        "outputId": "3c71dd7b-74b4-49eb-d5b4-5f6e652b759b",
        "colab": {
          "base_uri": "https://localhost:8080/",
          "height": 281
        }
      },
      "source": [
        "plt.hist(Y_train, edgecolor='k', bins = [1,2,3,4,5,6,7,8,9,10,11]) \n",
        "plt.title('Histogram of the scores after SMOTE')\n",
        "plt.show()"
      ],
      "execution_count": null,
      "outputs": [
        {
          "output_type": "display_data",
          "data": {
            "image/png": "[encoded data removed]",
            "text/plain": [
              "<Figure size 432x288 with 1 Axes>"
            ]
          },
          "metadata": {
            "tags": [],
            "needs_background": "light"
          }
        }
      ]
    },
    {
      "cell_type": "code",
      "metadata": {
        "id": "BIN03hrxizjj"
      },
      "source": [
        "from sklearn.linear_model import LogisticRegression\n",
        "\n",
        "classifier = LogisticRegression(max_iter=1000)\n",
        "\n",
        "classifier.fit(X_train, Y_train)\n",
        "\n",
        "Y_pred_test = classifier.predict(X_test)\n",
        "Y_pred_test_class = np.around(Y_pred_test)\n"
      ],
      "execution_count": null,
      "outputs": []
    },
    {
      "cell_type": "markdown",
      "metadata": {
        "id": "7WgN0DZ0ofDf"
      },
      "source": [
        "## Test the results"
      ]
    },
    {
      "cell_type": "code",
      "metadata": {
        "id": "Q_S4aZW4k08D"
      },
      "source": [
        "from sklearn.metrics import r2_score, mean_absolute_error, mean_squared_error\n",
        "from sklearn.metrics import classification_report, confusion_matrix, plot_confusion_matrix\n",
        "import matplotlib.pyplot as plt\n",
        "\n",
        "\n",
        "# task as regression\n",
        "\n",
        "print(\"R2 score %f\" % (r2_score(Y_test, Y_pred_test)))\n",
        "print(\"MAE %f\" % (mean_absolute_error(Y_test, Y_pred_test)))\n",
        "print(\"MSE %f\" % (mean_squared_error(Y_test, Y_pred_test)))\n",
        "print()\n",
        "\n",
        "# task as multiclass classification\n",
        "\n",
        "report = classification_report(Y_test.astype('int'), Y_pred_test_class.astype('int'), labels=[1,2,3,4,7,8,9,10])\n",
        "print(report)\n",
        "\n",
        "confusion_matrix = confusion_matrix(Y_test.astype('int'), Y_pred_test_class.astype('int'), labels=[1,2,3,4,7,8,9,10])\n",
        "print(confusion_matrix)\n",
        "print()\n",
        "\n",
        "# fancy confusion matrix\n",
        "plot_confusion_matrix(classifier, X_test, Y_test, normalize='true', cmap=plt.cm.Blues, values_format=\".2f\")\n"
      ],
      "execution_count": null,
      "outputs": []
    }
  ]
}