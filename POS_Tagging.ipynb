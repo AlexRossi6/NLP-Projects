{
  "nbformat": 4,
  "nbformat_minor": 0,
  "metadata": {
    "accelerator": "GPU",
    "colab": {
      "name": "POS_Tagging.ipynb",
      "provenance": [],
      "collapsed_sections": [],
      "toc_visible": true
    },
    "kernelspec": {
      "display_name": "Python 3",
      "name": "python3"
    }
  },
  "cells": [
    {
      "cell_type": "markdown",
      "metadata": {
        "id": "0lLFOMAf5qfA"
      },
      "source": [
        "# Import Dependencies"
      ]
    },
    {
      "cell_type": "code",
      "metadata": {
        "id": "of3D92OeWV8_"
      },
      "source": [
        "# The libraries we will use are imported here, in case of runtime problems\n",
        "import os, shutil  #  file management\n",
        "import sys\n",
        "import pandas as pd  #  dataframe management\n",
        "import numpy as np  #  data manipulation\n",
        "import itertools\n",
        "import matplotlib.pyplot as plt\n",
        "\n",
        "import torch\n",
        "import torch.nn as nn\n",
        "import torch.optim as optim\n",
        "\n",
        "from torchtext import data\n",
        "from torchtext import datasets\n",
        "\n",
        "import random\n",
        "import time\n",
        "import torchtext\n",
        "\n",
        "import itertools"
      ],
      "execution_count": null,
      "outputs": []
    },
    {
      "cell_type": "markdown",
      "metadata": {
        "id": "LPmh48qzlrzk"
      },
      "source": [
        "# Reproducibility\n",
        "\n",
        "\n",
        "\n",
        "\n"
      ]
    },
    {
      "cell_type": "code",
      "metadata": {
        "id": "gENJjhhcs768"
      },
      "source": [
        "def fix_random(seed):\n",
        "\n",
        "  np.random.seed(seed)\n",
        "  random.seed(seed)\n",
        "  torch.manual_seed(seed)\n",
        "  torch.cuda.manual_seed(seed)\n",
        "\n",
        "  torch.backends.cudnn.benchmark = False\n",
        "  torch.backends.cudnn.deterministic = True"
      ],
      "execution_count": null,
      "outputs": []
    },
    {
      "cell_type": "code",
      "metadata": {
        "id": "F9uG9WFsN6-S"
      },
      "source": [
        "fix_random(seed=1234)"
      ],
      "execution_count": null,
      "outputs": []
    },
    {
      "cell_type": "markdown",
      "metadata": {
        "id": "aJbkbcfoyPFY"
      },
      "source": [
        "# Runtime Settings\n",
        "\n",
        "Here we set the `device`, which is used to place tensors on our GPU, if we have one."
      ]
    },
    {
      "cell_type": "code",
      "metadata": {
        "id": "ib8_3-Scxvk8"
      },
      "source": [
        "device = torch.device(\"cuda\" if torch.cuda.is_available() else \"cpu\")"
      ],
      "execution_count": null,
      "outputs": []
    },
    {
      "cell_type": "markdown",
      "metadata": {
        "id": "pPq6sBDK6Ndt"
      },
      "source": [
        "If no GPU is available, you should change the Runtime settings. "
      ]
    },
    {
      "cell_type": "code",
      "metadata": {
        "colab": {
          "base_uri": "https://localhost:8080/"
        },
        "id": "I8YXWMiA7fVB",
        "outputId": "81bb97c3-4427-42e4-baef-975917d8d693"
      },
      "source": [
        "!nvidia-smi"
      ],
      "execution_count": null,
      "outputs": [
        {
          "output_type": "stream",
          "text": [
            "Tue Dec  1 15:58:31 2020       \n",
            "+-----------------------------------------------------------------------------+\n",
            "| NVIDIA-SMI 455.38       Driver Version: 418.67       CUDA Version: 10.1     |\n",
            "|-------------------------------+----------------------+----------------------+\n",
            "| GPU  Name        Persistence-M| Bus-Id        Disp.A | Volatile Uncorr. ECC |\n",
            "| Fan  Temp  Perf  Pwr:Usage/Cap|         Memory-Usage | GPU-Util  Compute M. |\n",
            "|                               |                      |               MIG M. |\n",
            "|===============================+======================+======================|\n",
            "|   0  Tesla P4            Off  | 00000000:00:04.0 Off |                    0 |\n",
            "| N/A   43C    P8     8W /  75W |     10MiB /  7611MiB |      0%      Default |\n",
            "|                               |                      |                 ERR! |\n",
            "+-------------------------------+----------------------+----------------------+\n",
            "                                                                               \n",
            "+-----------------------------------------------------------------------------+\n",
            "| Processes:                                                                  |\n",
            "|  GPU   GI   CI        PID   Type   Process name                  GPU Memory |\n",
            "|        ID   ID                                                   Usage      |\n",
            "|=============================================================================|\n",
            "|  No running processes found                                                 |\n",
            "+-----------------------------------------------------------------------------+\n"
          ],
          "name": "stdout"
        }
      ]
    },
    {
      "cell_type": "markdown",
      "metadata": {
        "id": "jBULh8GLZE08"
      },
      "source": [
        "# Get the Data"
      ]
    },
    {
      "cell_type": "code",
      "metadata": {
        "colab": {
          "base_uri": "https://localhost:8080/"
        },
        "id": "aLNJIfZg4_d9",
        "outputId": "8faa51fa-eb12-4a37-c931-db81cd9ab57e"
      },
      "source": [
        "import urllib.request  #  download files\n",
        "import zipfile  #  unzip files\n",
        "\n",
        "# We start by downloading the dataset and extract it to a folder\n",
        "\n",
        "dataset_folder = os.path.join(os.getcwd(), \"Dataset\")\n",
        "\n",
        "if not os.path.exists(dataset_folder):\n",
        "    os.makedirs(dataset_folder)\n",
        "\n",
        "url = \"https://raw.githubusercontent.com/nltk/nltk_data/gh-pages/packages/corpora/dependency_treebank.zip\"\n",
        "\n",
        "dataset_path = os.path.join(dataset_folder, \"dependency_treebank.zip\")\n",
        "\n",
        "if not os.path.exists(dataset_path):\n",
        "    urllib.request.urlretrieve(url, dataset_path)\n",
        "    print(\"Successful download\")\n",
        "\n",
        "with zipfile.ZipFile(dataset_path,\"r\") as zip_ref:\n",
        "    zip_ref.extractall(\"Dataset\")\n",
        "\n",
        "print(\"Successful extraction\")"
      ],
      "execution_count": null,
      "outputs": [
        {
          "output_type": "stream",
          "text": [
            "Successful download\n",
            "Successful extraction\n"
          ],
          "name": "stdout"
        }
      ]
    },
    {
      "cell_type": "code",
      "metadata": {
        "id": "B9Wrys7yIfVf"
      },
      "source": [
        "# we have modified the class SequenceTaggingDataset from the pytorch module torchtext in order to\n",
        "# encode the dataset in a more comfortable way to use\n",
        "\n",
        "class SequenceTaggingDataset(data.Dataset):\n",
        "  @staticmethod\n",
        "  def sort_key(example):\n",
        "    for attr in dir(example):\n",
        "      if not callable(getattr(example, attr)) and \\\n",
        "              not attr.startswith(\"__\"):\n",
        "        return len(getattr(example, attr))\n",
        "    return 0\n",
        "\n",
        "  def __init__(self, path, fields, split, encoding=\"utf-8\", separator=\"\\t\", **kwargs):\n",
        "    examples = []\n",
        "    columns = []\n",
        "\n",
        "    # split the dataset in training, validation and test set as required\n",
        "    if split == \"train\":\n",
        "      file_range = range(1,101)\n",
        "    elif split == \"val\":\n",
        "      file_range =  range(101,151)\n",
        "    else:\n",
        "      file_range = range(151,200)\n",
        "\n",
        "    # for each document we extract the text and the corresponding tags\n",
        "    for filename in os.listdir(path):\n",
        "      if int(filename[4:8]) in file_range:\n",
        "        file_path = os.path.join(path, filename)\n",
        "\n",
        "        with open(file_path, encoding=encoding) as input_file:\n",
        "            for line in input_file:\n",
        "              line = line.strip()\n",
        "\n",
        "              # don't consider the empty lines\n",
        "              if line != \"\": \n",
        "                \n",
        "                for i, column in enumerate(line.split(separator)):\n",
        "                  if len(columns) < i+1 :\n",
        "                    columns.append([])\n",
        "                  columns[i].append(column)                \n",
        "          \n",
        "            if columns:\n",
        "              examples.append(data.Example.fromlist(columns, fields))\n",
        "              columns = []\n",
        "        super(SequenceTaggingDataset, self).__init__(examples, fields, **kwargs)"
      ],
      "execution_count": null,
      "outputs": []
    },
    {
      "cell_type": "markdown",
      "metadata": {
        "id": "w0cIJX5HMnz5"
      },
      "source": [
        "One of the key parts of TorchText is the `Field`. The `Field` handles how your dataset is processed.\n",
        "\n",
        "The `TEXT` fields handle how the text is dealt with. By setting `lower = True` we lowercase all the text.\n",
        "\n",
        "In the `TB_TAGS` field we remove the initialization of a default unknown token by setting `unk_token = None`\n"
      ]
    },
    {
      "cell_type": "code",
      "metadata": {
        "id": "egzNryV8EB8r"
      },
      "source": [
        "TRAIN_TEXT = data.Field(lower = True)\n",
        "VAL_TEXT = data.Field(lower = True)\n",
        "TEST_TEXT = data.Field(lower = True)\n",
        "\n",
        "TB_TAGS = data.Field(unk_token = None)\n",
        "\n",
        "# We then define fields, which handles passing our fields to the dataset\n",
        "train_fields = ((\"words\", TRAIN_TEXT), (\"tags\", TB_TAGS))\n",
        "val_fields = ((\"words\", VAL_TEXT), (\"tags\", TB_TAGS))\n",
        "test_fields = ((\"words\", TEST_TEXT), (\"tags\", TB_TAGS))\n",
        "\n",
        "dataset_path = \"Dataset/dependency_treebank\"\n",
        "\n",
        "#split dataset in train, validation and test\n",
        "train_data = SequenceTaggingDataset(dataset_path, train_fields, split = \"train\")\n",
        "val_data = SequenceTaggingDataset(dataset_path, val_fields, split = \"val\")\n",
        "test_data = SequenceTaggingDataset(dataset_path, test_fields, split = \"test\")\n"
      ],
      "execution_count": null,
      "outputs": []
    },
    {
      "cell_type": "markdown",
      "metadata": {
        "id": "iK13mzHN_uIg"
      },
      "source": [
        "## Visualize the Data"
      ]
    },
    {
      "cell_type": "code",
      "metadata": {
        "colab": {
          "base_uri": "https://localhost:8080/"
        },
        "id": "S0wjEYOMb9Ku",
        "outputId": "b11fa2ac-b68e-4e14-a146-ac379508c417"
      },
      "source": [
        "print(\"Number of training examples: {}\".format(len(train_data)))\n",
        "print(\"Number of validation examples: {}\".format(len(val_data)))\n",
        "print(\"Number of testing examples: {}\".format(len(test_data)))"
      ],
      "execution_count": null,
      "outputs": [
        {
          "output_type": "stream",
          "text": [
            "Number of training examples: 100\n",
            "Number of validation examples: 50\n",
            "Number of testing examples: 49\n"
          ],
          "name": "stdout"
        }
      ]
    },
    {
      "cell_type": "code",
      "metadata": {
        "colab": {
          "base_uri": "https://localhost:8080/"
        },
        "id": "QYV4joAGvBKs",
        "outputId": "17ed850f-8050-4038-b0bc-24d66e2b936a"
      },
      "source": [
        "print(vars(train_data.examples[0]))"
      ],
      "execution_count": null,
      "outputs": [
        {
          "output_type": "stream",
          "text": [
            "{'words': ['cooper', 'tire', '&', 'rubber', 'co.', 'said', 'it', 'has', 'reached', 'an', 'agreement', 'in', 'principle', 'to', 'buy', 'buildings', 'and', 'related', 'property', 'in', 'albany', ',', 'ga.', ',', 'from', 'bridgestone\\\\/firestone', 'inc', '.', 'terms', 'were', \"n't\", 'disclosed', '.', 'the', 'tire', 'maker', 'said', 'the', 'buildings', 'consist', 'of', '1.8', 'million', 'square', 'feet', 'of', 'office', ',', 'manufacturing', 'and', 'warehousing', 'space', 'on', '353', 'acres', 'of', 'land', '.'], 'tags': ['NNP', 'NNP', 'SYM', 'NNP', 'NNP', 'VBD', 'PRP', 'VBZ', 'VBN', 'DT', 'NN', 'IN', 'NN', 'TO', 'VB', 'NNS', 'CC', 'JJ', 'NN', 'IN', 'NNP', ',', 'NNP', ',', 'IN', 'NNP', 'NNP', '.', 'NNS', 'VBD', 'RB', 'VBN', '.', 'DT', 'NN', 'NN', 'VBD', 'DT', 'NNS', 'VBP', 'IN', 'CD', 'CD', 'JJ', 'NNS', 'IN', 'NN', ',', 'NN', 'CC', 'NN', 'NN', 'IN', 'CD', 'NNS', 'IN', 'NN', '.']}\n"
          ],
          "name": "stdout"
        }
      ]
    },
    {
      "cell_type": "code",
      "metadata": {
        "colab": {
          "base_uri": "https://localhost:8080/"
        },
        "id": "DfLTbCUgX7SR",
        "outputId": "9c0dbf5a-86e9-4aab-90b2-e9f9a5006800"
      },
      "source": [
        "print(vars(train_data.examples[0])[\"words\"])"
      ],
      "execution_count": null,
      "outputs": [
        {
          "output_type": "stream",
          "text": [
            "['cooper', 'tire', '&', 'rubber', 'co.', 'said', 'it', 'has', 'reached', 'an', 'agreement', 'in', 'principle', 'to', 'buy', 'buildings', 'and', 'related', 'property', 'in', 'albany', ',', 'ga.', ',', 'from', 'bridgestone\\\\/firestone', 'inc', '.', 'terms', 'were', \"n't\", 'disclosed', '.', 'the', 'tire', 'maker', 'said', 'the', 'buildings', 'consist', 'of', '1.8', 'million', 'square', 'feet', 'of', 'office', ',', 'manufacturing', 'and', 'warehousing', 'space', 'on', '353', 'acres', 'of', 'land', '.']\n"
          ],
          "name": "stdout"
        }
      ]
    },
    {
      "cell_type": "code",
      "metadata": {
        "colab": {
          "base_uri": "https://localhost:8080/"
        },
        "id": "2dWJPLPIX7SU",
        "outputId": "f97cfb30-efb8-4d97-9cd6-fa914d69d58a"
      },
      "source": [
        "print(vars(train_data.examples[0])[\"tags\"])"
      ],
      "execution_count": null,
      "outputs": [
        {
          "output_type": "stream",
          "text": [
            "['NNP', 'NNP', 'SYM', 'NNP', 'NNP', 'VBD', 'PRP', 'VBZ', 'VBN', 'DT', 'NN', 'IN', 'NN', 'TO', 'VB', 'NNS', 'CC', 'JJ', 'NN', 'IN', 'NNP', ',', 'NNP', ',', 'IN', 'NNP', 'NNP', '.', 'NNS', 'VBD', 'RB', 'VBN', '.', 'DT', 'NN', 'NN', 'VBD', 'DT', 'NNS', 'VBP', 'IN', 'CD', 'CD', 'JJ', 'NNS', 'IN', 'NN', ',', 'NN', 'CC', 'NN', 'NN', 'IN', 'CD', 'NNS', 'IN', 'NN', '.']\n"
          ],
          "name": "stdout"
        }
      ]
    },
    {
      "cell_type": "markdown",
      "metadata": {
        "id": "8H3pfwiy_4v_"
      },
      "source": [
        "## Build vocabularies\n",
        "\n",
        "We build the vocabularies by loading the `GloVe` pre-trained token embeddings."
      ]
    },
    {
      "cell_type": "code",
      "metadata": {
        "id": "k-kMNEw1X7Sb",
        "colab": {
          "base_uri": "https://localhost:8080/"
        },
        "outputId": "fcb0b545-43f3-4c27-be11-3b72f6f64060"
      },
      "source": [
        "# unk_init is used to initialize the token embeddings which are not in the pre-trained embedding vocabulary\n",
        "TRAIN_TEXT.build_vocab(train_data, \n",
        "                 vectors = \"glove.6B.100d\",\n",
        "                 unk_init = torch.Tensor.normal_)\n",
        "\n",
        "VAL_TEXT.build_vocab(val_data,\n",
        "                 vectors = \"glove.6B.100d\",\n",
        "                 unk_init = torch.Tensor.normal_)\n",
        "\n",
        "TEST_TEXT.build_vocab(test_data,\n",
        "                 vectors = \"glove.6B.100d\",\n",
        "                 unk_init = torch.Tensor.normal_)\n",
        "\n",
        "\n",
        "TB_TAGS.build_vocab(train_data)"
      ],
      "execution_count": null,
      "outputs": [
        {
          "output_type": "stream",
          "text": [
            ".vector_cache/glove.6B.zip: 862MB [06:32, 2.20MB/s]                          \n",
            "100%|█████████▉| 399075/400000 [00:15<00:00, 24574.84it/s]"
          ],
          "name": "stderr"
        }
      ]
    },
    {
      "cell_type": "code",
      "metadata": {
        "colab": {
          "base_uri": "https://localhost:8080/"
        },
        "id": "ZgD7G6CQX7Sf",
        "outputId": "78524e3f-a33d-4b95-a64f-a0c2837ca6eb"
      },
      "source": [
        "print(\"Unique tokens in the TRAIN_TEXT vocabulary: {}\".format(len(TRAIN_TEXT.vocab)))\n",
        "print(\"Unique tokens in TB_TAG vocabulary: {}\".format(len(TB_TAGS.vocab)))"
      ],
      "execution_count": null,
      "outputs": [
        {
          "output_type": "stream",
          "text": [
            "Unique tokens in the TRAIN_TEXT vocabulary: 7406\n",
            "Unique tokens in TB_TAG vocabulary: 46\n"
          ],
          "name": "stdout"
        }
      ]
    },
    {
      "cell_type": "code",
      "metadata": {
        "colab": {
          "base_uri": "https://localhost:8080/"
        },
        "id": "8YLLug8qX7Sk",
        "outputId": "4aa87d2b-1980-4c25-92d0-82a3ada29265"
      },
      "source": [
        "print(TRAIN_TEXT.vocab.freqs.most_common(20))"
      ],
      "execution_count": null,
      "outputs": [
        {
          "output_type": "stream",
          "text": [
            "[(',', 2570), ('the', 2329), ('.', 1936), ('of', 1177), ('to', 1031), ('a', 1026), ('in', 949), ('and', 815), ('for', 459), (\"'s\", 431), ('that', 425), ('``', 404), (\"''\", 394), ('$', 338), ('is', 324), ('said', 311), ('it', 304), ('on', 259), ('mr.', 245), ('at', 224)]\n"
          ],
          "name": "stdout"
        }
      ]
    },
    {
      "cell_type": "code",
      "metadata": {
        "id": "OH7cDjKGX7S4"
      },
      "source": [
        "def tag_percentage(tag_counts):\n",
        "  total_count = sum([count for tag, count in tag_counts])\n",
        "  tag_counts_percentages = [(tag, count, count/total_count) for tag, count in tag_counts] \n",
        "  return tag_counts_percentages"
      ],
      "execution_count": null,
      "outputs": []
    },
    {
      "cell_type": "code",
      "metadata": {
        "colab": {
          "base_uri": "https://localhost:8080/"
        },
        "id": "Qe7SWY1QX7S7",
        "outputId": "600df11c-c9ae-4349-c1d9-8694263f9054"
      },
      "source": [
        "print(\"Tag\\t\\tCount\\t\\tPercentage\\n\")\n",
        "for tag, count, percent in tag_percentage(TB_TAGS.vocab.freqs.most_common()):\n",
        "  print(\"{}\\t\\t{}\\t\\t{:4.1f}%\".format(tag,count,percent*100))"
      ],
      "execution_count": null,
      "outputs": [
        {
          "output_type": "stream",
          "text": [
            "Tag\t\tCount\t\tPercentage\n",
            "\n",
            "NN\t\t6270\t\t13.2%\n",
            "NNP\t\t5202\t\t11.0%\n",
            "IN\t\t4952\t\t10.5%\n",
            "DT\t\t4076\t\t 8.6%\n",
            "NNS\t\t3004\t\t 6.3%\n",
            "JJ\t\t2992\t\t 6.3%\n",
            ",\t\t2571\t\t 5.4%\n",
            ".\t\t1959\t\t 4.1%\n",
            "VBD\t\t1548\t\t 3.3%\n",
            "RB\t\t1490\t\t 3.1%\n",
            "CD\t\t1439\t\t 3.0%\n",
            "VB\t\t1195\t\t 2.5%\n",
            "CC\t\t1141\t\t 2.4%\n",
            "VBZ\t\t1133\t\t 2.4%\n",
            "VBN\t\t1031\t\t 2.2%\n",
            "TO\t\t1028\t\t 2.2%\n",
            "PRP\t\t954\t\t 2.0%\n",
            "VBG\t\t763\t\t 1.6%\n",
            "VBP\t\t727\t\t 1.5%\n",
            "MD\t\t413\t\t 0.9%\n",
            "``\t\t409\t\t 0.9%\n",
            "PRP$\t\t409\t\t 0.9%\n",
            "POS\t\t403\t\t 0.9%\n",
            "''\t\t399\t\t 0.8%\n",
            "$\t\t342\t\t 0.7%\n",
            ":\t\t293\t\t 0.6%\n",
            "WDT\t\t204\t\t 0.4%\n",
            "JJR\t\t157\t\t 0.3%\n",
            "WP\t\t141\t\t 0.3%\n",
            "RP\t\t140\t\t 0.3%\n",
            "NNPS\t\t95\t\t 0.2%\n",
            "JJS\t\t93\t\t 0.2%\n",
            "WRB\t\t92\t\t 0.2%\n",
            "RBR\t\t86\t\t 0.2%\n",
            "-RRB-\t\t55\t\t 0.1%\n",
            "-LRB-\t\t52\t\t 0.1%\n",
            "EX\t\t49\t\t 0.1%\n",
            "RBS\t\t19\t\t 0.0%\n",
            "LS\t\t10\t\t 0.0%\n",
            "PDT\t\t9\t\t 0.0%\n",
            "WP$\t\t6\t\t 0.0%\n",
            "FW\t\t2\t\t 0.0%\n",
            "SYM\t\t1\t\t 0.0%\n",
            "UH\t\t1\t\t 0.0%\n",
            "#\t\t1\t\t 0.0%\n"
          ],
          "name": "stdout"
        }
      ]
    },
    {
      "cell_type": "markdown",
      "metadata": {
        "id": "j0BVDKcZ13l8"
      },
      "source": [
        "## Create the `Iterators`\n",
        "\n",
        "The final part of data preparation is handling the iterator.\n",
        "We also set the batch size."
      ]
    },
    {
      "cell_type": "code",
      "metadata": {
        "id": "d6scFVuIX7TH"
      },
      "source": [
        "BATCH_SIZE = 4\n",
        "\n",
        "train_iterator, val_iterator = data.BucketIterator.splits(\n",
        "    (train_data, val_data), \n",
        "    batch_size = BATCH_SIZE,\n",
        "    device = device)\n"
      ],
      "execution_count": null,
      "outputs": []
    },
    {
      "cell_type": "markdown",
      "metadata": {
        "id": "eTeXoJ7TAuii"
      },
      "source": [
        "# Baseline Model"
      ]
    },
    {
      "cell_type": "code",
      "metadata": {
        "id": "MvEIVdx0TGjW"
      },
      "source": [
        "# set models' parameters\n",
        "EMBEDDING_DIM = 100\n",
        "HIDDEN_DIM = 64\n",
        "OUTPUT_DIM = len(TB_TAGS.vocab)\n",
        "N_EPOCHS = 50\n",
        "\n",
        "# get the pad index from the text and tags vocabularies\n",
        "PAD_IDX = TRAIN_TEXT.vocab.stoi[TRAIN_TEXT.pad_token]\n",
        "TAG_PAD_IDX = TB_TAGS.vocab.stoi[TB_TAGS.pad_token]\n",
        "\n",
        "# It's common to initialize the embedding of the pad token to all zeros. \n",
        "TRAIN_TEXT.vocab.vectors[PAD_IDX] = torch.zeros(EMBEDDING_DIM)\n",
        "VAL_TEXT.vocab.vectors[PAD_IDX] = torch.zeros(EMBEDDING_DIM)\n",
        "TEST_TEXT.vocab.vectors[PAD_IDX] = torch.zeros(EMBEDDING_DIM)\n",
        "\n",
        "# we place the embeddings on our GPU, if we have one\n",
        "TRAIN_TEXT.vocab.vectors = TRAIN_TEXT.vocab.vectors.to(device)\n",
        "VAL_TEXT.vocab.vectors = VAL_TEXT.vocab.vectors.to(device)\n",
        "TEST_TEXT.vocab.vectors = TEST_TEXT.vocab.vectors.to(device)"
      ],
      "execution_count": null,
      "outputs": []
    },
    {
      "cell_type": "code",
      "metadata": {
        "id": "9O3aaMFUX7TM"
      },
      "source": [
        "class BiLSTM(nn.Module):\n",
        "  def __init__(self, embedding_dim, hidden_dim, output_dim):\n",
        "    \n",
        "    super().__init__()\n",
        "    \n",
        "    # bidirectional lstm layer\n",
        "    self.lstm = nn.LSTM(embedding_dim, hidden_dim, bidirectional = True)\n",
        "    \n",
        "    # dense layer\n",
        "    self.fc = nn.Linear(hidden_dim * 2, output_dim)\n",
        "    \n",
        "    # dropout\n",
        "    self.dropout = nn.Dropout(0.25)\n",
        "\n",
        "    \n",
        "  def forward(self, embedded):\n",
        "    \n",
        "    # pass embeddings into LSTM\n",
        "    outputs, (hidden, cell) = self.lstm(self.dropout(embedded))\n",
        "    \n",
        "    # get the predictions of the tags\n",
        "    predictions = self.fc(outputs)\n",
        "    \n",
        "    return predictions"
      ],
      "execution_count": null,
      "outputs": []
    },
    {
      "cell_type": "code",
      "metadata": {
        "id": "kQ70j8PsTDVN"
      },
      "source": [
        "# initialize the model\n",
        "bilstm = BiLSTM(EMBEDDING_DIM, HIDDEN_DIM, OUTPUT_DIM)"
      ],
      "execution_count": null,
      "outputs": []
    },
    {
      "cell_type": "markdown",
      "metadata": {
        "id": "vWFABwqHRbS-"
      },
      "source": [
        "We initialize the weights from a Normal Distribution"
      ]
    },
    {
      "cell_type": "code",
      "metadata": {
        "colab": {
          "base_uri": "https://localhost:8080/"
        },
        "id": "PXvBhRAYX7TZ",
        "outputId": "02791cad-dc19-4d88-a8bc-b11acc2a06f8"
      },
      "source": [
        "def init_weights(m):\n",
        "  for name, param in m.named_parameters():\n",
        "    nn.init.normal_(param.data, mean = 0, std = 0.1)\n",
        "        \n",
        "bilstm.apply(init_weights)"
      ],
      "execution_count": null,
      "outputs": [
        {
          "output_type": "execute_result",
          "data": {
            "text/plain": [
              "BiLSTM(\n",
              "  (lstm): LSTM(100, 64, bidirectional=True)\n",
              "  (fc): Linear(in_features=128, out_features=46, bias=True)\n",
              "  (dropout): Dropout(p=0.25, inplace=False)\n",
              ")"
            ]
          },
          "metadata": {
            "tags": []
          },
          "execution_count": 22
        }
      ]
    },
    {
      "cell_type": "code",
      "metadata": {
        "colab": {
          "base_uri": "https://localhost:8080/"
        },
        "id": "fnrzooM8X7Ti",
        "outputId": "1bc63a30-894d-40a3-b33a-9c8e13ae6d11"
      },
      "source": [
        "import locale\n",
        "locale.setlocale(locale.LC_ALL, '')\n",
        "\n",
        "def count_parameters(model):\n",
        "  return sum(p.numel() for p in model.parameters() if p.requires_grad)\n",
        "\n",
        "print(\"The model has {:n} trainable parameters\".format(count_parameters(bilstm)))"
      ],
      "execution_count": null,
      "outputs": [
        {
          "output_type": "stream",
          "text": [
            "The model has 90,926 trainable parameters\n"
          ],
          "name": "stdout"
        }
      ]
    },
    {
      "cell_type": "code",
      "metadata": {
        "id": "AxMEo-RpX7Tx"
      },
      "source": [
        "# define the optimizer\n",
        "optimizer = optim.Adam(bilstm.parameters(), lr=0.01)\n",
        "\n",
        "# by setting ignore_index = TAG_PAD_IDX we don't calculate the loss when the target is a <pad> token\n",
        "criterion = nn.CrossEntropyLoss(ignore_index = TAG_PAD_IDX)"
      ],
      "execution_count": null,
      "outputs": []
    },
    {
      "cell_type": "code",
      "metadata": {
        "id": "2enHR8qJ8HyD"
      },
      "source": [
        "# we place our model and loss function on our GPU, if we have one\n",
        "bilstm = bilstm.to(device)\n",
        "criterion = criterion.to(device)"
      ],
      "execution_count": null,
      "outputs": []
    },
    {
      "cell_type": "markdown",
      "metadata": {
        "id": "8A_vZja8mEEQ"
      },
      "source": [
        "## Train the Network"
      ]
    },
    {
      "cell_type": "markdown",
      "metadata": {
        "id": "_uakdjgRmK_2"
      },
      "source": [
        "### Visual Debug with Tensorboard\n"
      ]
    },
    {
      "cell_type": "code",
      "metadata": {
        "id": "4f1zWcmHJ3DS"
      },
      "source": [
        "%load_ext tensorboard"
      ],
      "execution_count": null,
      "outputs": []
    },
    {
      "cell_type": "code",
      "metadata": {
        "id": "XqlHRs8I0KUw"
      },
      "source": [
        "from torch.utils.tensorboard import SummaryWriter"
      ],
      "execution_count": null,
      "outputs": []
    },
    {
      "cell_type": "markdown",
      "metadata": {
        "id": "lQ3dVqHzuP76"
      },
      "source": [
        "###Train"
      ]
    },
    {
      "cell_type": "markdown",
      "metadata": {
        "id": "c6-QvhQbTkDV"
      },
      "source": [
        "To have a better idea of the performance of the model, we compute the accuracy by not considering the pad token "
      ]
    },
    {
      "cell_type": "code",
      "metadata": {
        "id": "GXIF7V9oX7T7"
      },
      "source": [
        "def categorical_accuracy(preds, y, tag_pad_idx, crf = False):\n",
        "  \n",
        "  # don't consider the pad token\n",
        "  non_pad_elements = torch.nonzero(y != tag_pad_idx) \n",
        "  \n",
        "  # with crf we don't need to get the index of max probability, since the crf model returns it directly\n",
        "  if crf:\n",
        "    correct = preds[non_pad_elements].eq(y[non_pad_elements]) \n",
        "  else:\n",
        "    # get the index of the max probability\n",
        "    max_preds = preds.argmax(dim = 1, keepdim = True) \n",
        "    correct = max_preds[non_pad_elements].squeeze(1).eq(y[non_pad_elements]) \n",
        "\n",
        "  if torch.cuda.is_available():\n",
        "    return correct.sum() / torch.cuda.FloatTensor([y[non_pad_elements].shape[0]])\n",
        "  else:\n",
        "    return correct.sum() / torch.FloatTensor([y[non_pad_elements].shape[0]])"
      ],
      "execution_count": null,
      "outputs": []
    },
    {
      "cell_type": "code",
      "metadata": {
        "id": "_QIS_W794dll"
      },
      "source": [
        "# we have defined this function to get the embedding from every batch of text\n",
        "def get_text_embedding(batch, text_field):\n",
        "  result =  torch.stack([torch.stack([text_field.vocab.vectors[word] for word in sequence]) for sequence in batch])\n",
        "  return result"
      ],
      "execution_count": null,
      "outputs": []
    },
    {
      "cell_type": "code",
      "metadata": {
        "id": "3a2hxTjfX7T-"
      },
      "source": [
        "def train(writer, model, iterator, optimizer, criterion, tag_pad_idx, log_interval, epoch, text_field):\n",
        "  \n",
        "  epoch_loss = 0\n",
        "  epoch_acc = 0\n",
        "\n",
        "  samples_train = 0\n",
        "  num_batches = len(iterator)\n",
        "  \n",
        " \n",
        "  model.train()\n",
        "  \n",
        "  for idx_batch, batch in enumerate(iterator):\n",
        "    \n",
        "    embedded = get_text_embedding(batch.words, text_field)\n",
        "    tags = batch.tags\n",
        "    \n",
        "    optimizer.zero_grad()\n",
        "    \n",
        "    predictions = model(embedded)  \n",
        "    \n",
        "    # as PyTorch loss functions cannot handle 3-dimensional predictions we reshape our predictions\n",
        "    predictions = predictions.view(-1, predictions.shape[-1])\n",
        "    tags = tags.view(-1)\n",
        "\n",
        "    loss = criterion(predictions, tags)\n",
        "    \n",
        "    samples_train += len(embedded) \n",
        "            \n",
        "    acc = categorical_accuracy(predictions, tags, tag_pad_idx)\n",
        "    \n",
        "    loss.backward()\n",
        "    \n",
        "    optimizer.step()\n",
        "\n",
        "    \n",
        "    epoch_loss += loss.item()\n",
        "    epoch_acc += acc.item()\n",
        "\n",
        "    # update the writer\n",
        "    if log_interval > 0:\n",
        "      if idx_batch % log_interval == 0:\n",
        "        running_loss = epoch_loss / samples_train\n",
        "        global_step = idx_batch + (epoch * num_batches) \n",
        "        writer.add_scalar(\"Metrics/Loss_Train_IT\", running_loss, global_step)\n",
        "      \n",
        "  return epoch_loss / len(iterator), epoch_acc / len(iterator)"
      ],
      "execution_count": null,
      "outputs": []
    },
    {
      "cell_type": "markdown",
      "metadata": {
        "id": "LqVRMOaAuY3h"
      },
      "source": [
        "###Validate"
      ]
    },
    {
      "cell_type": "code",
      "metadata": {
        "id": "O3gw1r8GX7UB"
      },
      "source": [
        "def evaluate(model, iterator, criterion, tag_pad_idx, text_field):\n",
        "  \n",
        "  epoch_loss = 0\n",
        "  epoch_acc = 0\n",
        "  \n",
        "  model.eval()\n",
        "  \n",
        "  with torch.no_grad():\n",
        "\n",
        "    for batch in iterator:\n",
        "\n",
        "      embedded = get_text_embedding(batch.words, text_field)\n",
        "      tags = batch.tags\n",
        "      \n",
        "      predictions = model(embedded)\n",
        "      \n",
        "      # as PyTorch loss functions cannot handle 3-dimensional predictions we reshape our predictions\n",
        "      predictions = predictions.view(-1, predictions.shape[-1])\n",
        "      tags = tags.view(-1)\n",
        "      \n",
        "      loss = criterion(predictions, tags)\n",
        "      \n",
        "      acc = categorical_accuracy(predictions, tags, tag_pad_idx)\n",
        "\n",
        "      epoch_loss += loss.item()\n",
        "      epoch_acc += acc.item()\n",
        "      \n",
        "  return epoch_loss / len(iterator), epoch_acc / len(iterator)"
      ],
      "execution_count": null,
      "outputs": []
    },
    {
      "cell_type": "markdown",
      "metadata": {
        "id": "04-jpDwPuflH"
      },
      "source": [
        "###Training Loop"
      ]
    },
    {
      "cell_type": "code",
      "metadata": {
        "id": "mE3uoFSvX7UF"
      },
      "source": [
        "# function that returns the time in minutes and seconds needed to run an epoch\n",
        "def epoch_time(start_time, end_time):\n",
        "  elapsed_time = end_time - start_time\n",
        "  elapsed_mins = int(elapsed_time / 60)\n",
        "  elapsed_secs = int(elapsed_time - (elapsed_mins * 60))\n",
        "  return elapsed_mins, elapsed_secs"
      ],
      "execution_count": null,
      "outputs": []
    },
    {
      "cell_type": "code",
      "metadata": {
        "id": "78BIXpSnX7UI"
      },
      "source": [
        "def training_loop(writer, model, N_EPOCHS, train_iterator, val_iterator, optimizer, criterion, tag_pad_idx, train_field, val_field, log_interval, crf = False):\n",
        "\n",
        "  best_val_loss = float('inf')\n",
        "\n",
        "  loop_start = time.time()\n",
        "\n",
        "  losses_values = []\n",
        "  train_acc_values = []\n",
        "  val_acc_values = []\n",
        "\n",
        "  for epoch in range(1, N_EPOCHS+1):\n",
        "\n",
        "    start_time = time.time()\n",
        "\n",
        "    # use specific training and evaluation functions for crf (train_crf and evaluate_crf defined later)\n",
        "    if crf:\n",
        "      train_loss, train_acc = train_crf(writer, model, train_iterator, optimizer, criterion, tag_pad_idx, log_interval, epoch, train_field)\n",
        "      val_loss, val_acc = evaluate_crf(model, val_iterator, criterion, tag_pad_idx, val_field)\n",
        "\n",
        "    else:\n",
        "      train_loss, train_acc = train(writer, model, train_iterator, optimizer, criterion, tag_pad_idx, log_interval, epoch, train_field)\n",
        "      val_loss, val_acc = evaluate(model, val_iterator, criterion, tag_pad_idx, val_field)\n",
        "    \n",
        "    end_time = time.time()\n",
        "\n",
        "    epoch_mins, epoch_secs = epoch_time(start_time, end_time)\n",
        "\n",
        "    losses_values.append(train_loss)\n",
        "    train_acc_values.append(train_acc)\n",
        "    val_acc_values.append(val_acc)\n",
        "\n",
        "    lr =  optimizer.param_groups[0]['lr']\n",
        "    \n",
        "    # save the model whenever we reach a better validation accuracy\n",
        "    if val_loss < best_val_loss:\n",
        "      best_val_loss = val_loss\n",
        "      torch.save(model.state_dict(), model.__class__.__name__ + '.pt')\n",
        "    \n",
        "\n",
        "    # Plot to tensorboard        \n",
        "    writer.add_scalar(\"Hyperparameters/Learning Rate\", lr, epoch)\n",
        "    writer.add_scalars(\"Metrics/Losses\", {\"Train\": train_loss, \"Val\": val_loss}, epoch)\n",
        "    writer.add_scalars(\"Metrics/Accuracy\", {\"Train\": train_acc, \"Val\": val_acc}, epoch)\n",
        "    writer.flush()\n",
        "\n",
        "    print()\n",
        "    print(f\"Epoch: {epoch:02} | Epoch Time: {epoch_mins}m {epoch_secs}s\")\n",
        "    print(f\"\\tTrain Loss: {train_loss:.3f} | Train Acc: {train_acc*100:.2f}%\")\n",
        "    print(f\"\\t Val. Loss: {val_loss:.3f} |  Val. Acc: {val_acc*100:.2f}%\")\n",
        "\n",
        "  loop_end = time.time()\n",
        "  time_loop = loop_end - loop_start\n",
        "\n",
        "  return {\"loss_values\": losses_values,\n",
        "        \"train_acc_values\": train_acc_values,\n",
        "        \"val_acc_values\": val_acc_values,\n",
        "        \"time\": time_loop}"
      ],
      "execution_count": null,
      "outputs": []
    },
    {
      "cell_type": "markdown",
      "metadata": {
        "id": "WTPVY2rPuj5o"
      },
      "source": [
        "###Execute the loop"
      ]
    },
    {
      "cell_type": "code",
      "metadata": {
        "id": "ar3I92f4tlg-"
      },
      "source": [
        "# uncomment the line below to show tensorboard plots of the training\n",
        "# %tensorboard --logdir=\"logs/bilstm\""
      ],
      "execution_count": null,
      "outputs": []
    },
    {
      "cell_type": "code",
      "metadata": {
        "colab": {
          "base_uri": "https://localhost:8080/"
        },
        "id": "yzLcfb-QKXjf",
        "outputId": "5b0d232f-c876-46d6-82d3-badfe2f44177"
      },
      "source": [
        "log_interval = 20\n",
        "writer = torch.utils.tensorboard.writer.SummaryWriter(log_dir=os.path.join(\"logs\", \"bilstm\"))\n",
        "statistics = training_loop(writer, bilstm, N_EPOCHS,train_iterator,val_iterator,optimizer,criterion,TAG_PAD_IDX, TRAIN_TEXT, VAL_TEXT, log_interval)\n",
        "writer.close()"
      ],
      "execution_count": null,
      "outputs": [
        {
          "output_type": "stream",
          "text": [
            "\r100%|█████████▉| 399075/400000 [00:29<00:00, 24574.84it/s]"
          ],
          "name": "stderr"
        },
        {
          "output_type": "stream",
          "text": [
            "\n",
            "Epoch: 01 | Epoch Time: 0m 9s\n",
            "\tTrain Loss: 2.071 | Train Acc: 48.03%\n",
            "\t Val. Loss: 1.003 |  Val. Acc: 73.28%\n",
            "\n",
            "Epoch: 02 | Epoch Time: 0m 5s\n",
            "\tTrain Loss: 0.837 | Train Acc: 76.36%\n",
            "\t Val. Loss: 0.614 |  Val. Acc: 82.90%\n",
            "\n",
            "Epoch: 03 | Epoch Time: 0m 5s\n",
            "\tTrain Loss: 0.615 | Train Acc: 82.09%\n",
            "\t Val. Loss: 0.503 |  Val. Acc: 86.13%\n",
            "\n",
            "Epoch: 04 | Epoch Time: 0m 5s\n",
            "\tTrain Loss: 0.511 | Train Acc: 84.39%\n",
            "\t Val. Loss: 0.456 |  Val. Acc: 87.40%\n",
            "\n",
            "Epoch: 05 | Epoch Time: 0m 4s\n",
            "\tTrain Loss: 0.462 | Train Acc: 86.03%\n",
            "\t Val. Loss: 0.425 |  Val. Acc: 88.27%\n",
            "\n",
            "Epoch: 06 | Epoch Time: 0m 5s\n",
            "\tTrain Loss: 0.420 | Train Acc: 87.29%\n",
            "\t Val. Loss: 0.403 |  Val. Acc: 89.03%\n",
            "\n",
            "Epoch: 07 | Epoch Time: 0m 5s\n",
            "\tTrain Loss: 0.387 | Train Acc: 88.33%\n",
            "\t Val. Loss: 0.381 |  Val. Acc: 89.33%\n",
            "\n",
            "Epoch: 08 | Epoch Time: 0m 5s\n",
            "\tTrain Loss: 0.361 | Train Acc: 89.03%\n",
            "\t Val. Loss: 0.367 |  Val. Acc: 89.72%\n",
            "\n",
            "Epoch: 09 | Epoch Time: 0m 5s\n",
            "\tTrain Loss: 0.327 | Train Acc: 89.91%\n",
            "\t Val. Loss: 0.348 |  Val. Acc: 90.29%\n",
            "\n",
            "Epoch: 10 | Epoch Time: 0m 5s\n",
            "\tTrain Loss: 0.312 | Train Acc: 90.23%\n",
            "\t Val. Loss: 0.344 |  Val. Acc: 90.27%\n",
            "\n",
            "Epoch: 11 | Epoch Time: 0m 5s\n",
            "\tTrain Loss: 0.295 | Train Acc: 90.85%\n",
            "\t Val. Loss: 0.337 |  Val. Acc: 90.45%\n",
            "\n",
            "Epoch: 12 | Epoch Time: 0m 5s\n",
            "\tTrain Loss: 0.281 | Train Acc: 91.41%\n",
            "\t Val. Loss: 0.322 |  Val. Acc: 90.84%\n",
            "\n",
            "Epoch: 13 | Epoch Time: 0m 5s\n",
            "\tTrain Loss: 0.256 | Train Acc: 92.14%\n",
            "\t Val. Loss: 0.323 |  Val. Acc: 90.92%\n",
            "\n",
            "Epoch: 14 | Epoch Time: 0m 5s\n",
            "\tTrain Loss: 0.244 | Train Acc: 92.36%\n",
            "\t Val. Loss: 0.320 |  Val. Acc: 90.93%\n",
            "\n",
            "Epoch: 15 | Epoch Time: 0m 5s\n",
            "\tTrain Loss: 0.240 | Train Acc: 92.59%\n",
            "\t Val. Loss: 0.311 |  Val. Acc: 91.18%\n",
            "\n",
            "Epoch: 16 | Epoch Time: 0m 5s\n",
            "\tTrain Loss: 0.229 | Train Acc: 92.92%\n",
            "\t Val. Loss: 0.309 |  Val. Acc: 91.10%\n",
            "\n",
            "Epoch: 17 | Epoch Time: 0m 5s\n",
            "\tTrain Loss: 0.223 | Train Acc: 92.91%\n",
            "\t Val. Loss: 0.302 |  Val. Acc: 91.53%\n",
            "\n",
            "Epoch: 18 | Epoch Time: 0m 5s\n",
            "\tTrain Loss: 0.213 | Train Acc: 93.30%\n",
            "\t Val. Loss: 0.297 |  Val. Acc: 91.66%\n",
            "\n",
            "Epoch: 19 | Epoch Time: 0m 5s\n",
            "\tTrain Loss: 0.209 | Train Acc: 93.45%\n",
            "\t Val. Loss: 0.310 |  Val. Acc: 91.30%\n",
            "\n",
            "Epoch: 20 | Epoch Time: 0m 5s\n",
            "\tTrain Loss: 0.198 | Train Acc: 93.70%\n",
            "\t Val. Loss: 0.300 |  Val. Acc: 91.53%\n",
            "\n",
            "Epoch: 21 | Epoch Time: 0m 5s\n",
            "\tTrain Loss: 0.192 | Train Acc: 93.87%\n",
            "\t Val. Loss: 0.304 |  Val. Acc: 91.75%\n",
            "\n",
            "Epoch: 22 | Epoch Time: 0m 5s\n",
            "\tTrain Loss: 0.181 | Train Acc: 94.20%\n",
            "\t Val. Loss: 0.298 |  Val. Acc: 91.69%\n",
            "\n",
            "Epoch: 23 | Epoch Time: 0m 5s\n",
            "\tTrain Loss: 0.185 | Train Acc: 94.22%\n",
            "\t Val. Loss: 0.304 |  Val. Acc: 91.72%\n",
            "\n",
            "Epoch: 24 | Epoch Time: 0m 5s\n",
            "\tTrain Loss: 0.177 | Train Acc: 94.29%\n",
            "\t Val. Loss: 0.304 |  Val. Acc: 91.58%\n",
            "\n",
            "Epoch: 25 | Epoch Time: 0m 5s\n",
            "\tTrain Loss: 0.173 | Train Acc: 94.41%\n",
            "\t Val. Loss: 0.310 |  Val. Acc: 91.62%\n",
            "\n",
            "Epoch: 26 | Epoch Time: 0m 5s\n",
            "\tTrain Loss: 0.173 | Train Acc: 94.52%\n",
            "\t Val. Loss: 0.298 |  Val. Acc: 91.78%\n",
            "\n",
            "Epoch: 27 | Epoch Time: 0m 5s\n",
            "\tTrain Loss: 0.170 | Train Acc: 94.66%\n",
            "\t Val. Loss: 0.307 |  Val. Acc: 91.34%\n",
            "\n",
            "Epoch: 28 | Epoch Time: 0m 5s\n",
            "\tTrain Loss: 0.162 | Train Acc: 94.79%\n",
            "\t Val. Loss: 0.314 |  Val. Acc: 91.23%\n",
            "\n",
            "Epoch: 29 | Epoch Time: 0m 4s\n",
            "\tTrain Loss: 0.153 | Train Acc: 95.09%\n",
            "\t Val. Loss: 0.305 |  Val. Acc: 91.30%\n",
            "\n",
            "Epoch: 30 | Epoch Time: 0m 5s\n",
            "\tTrain Loss: 0.155 | Train Acc: 95.08%\n",
            "\t Val. Loss: 0.300 |  Val. Acc: 92.24%\n",
            "\n",
            "Epoch: 31 | Epoch Time: 0m 5s\n",
            "\tTrain Loss: 0.150 | Train Acc: 95.09%\n",
            "\t Val. Loss: 0.300 |  Val. Acc: 92.08%\n",
            "\n",
            "Epoch: 32 | Epoch Time: 0m 5s\n",
            "\tTrain Loss: 0.153 | Train Acc: 95.07%\n",
            "\t Val. Loss: 0.303 |  Val. Acc: 91.86%\n",
            "\n",
            "Epoch: 33 | Epoch Time: 0m 5s\n",
            "\tTrain Loss: 0.149 | Train Acc: 95.28%\n",
            "\t Val. Loss: 0.303 |  Val. Acc: 92.05%\n",
            "\n",
            "Epoch: 34 | Epoch Time: 0m 5s\n",
            "\tTrain Loss: 0.145 | Train Acc: 95.39%\n",
            "\t Val. Loss: 0.301 |  Val. Acc: 92.13%\n",
            "\n",
            "Epoch: 35 | Epoch Time: 0m 5s\n",
            "\tTrain Loss: 0.145 | Train Acc: 95.30%\n",
            "\t Val. Loss: 0.307 |  Val. Acc: 91.93%\n",
            "\n",
            "Epoch: 36 | Epoch Time: 0m 5s\n",
            "\tTrain Loss: 0.137 | Train Acc: 95.63%\n",
            "\t Val. Loss: 0.307 |  Val. Acc: 91.94%\n",
            "\n",
            "Epoch: 37 | Epoch Time: 0m 5s\n",
            "\tTrain Loss: 0.137 | Train Acc: 95.55%\n",
            "\t Val. Loss: 0.309 |  Val. Acc: 91.84%\n",
            "\n",
            "Epoch: 38 | Epoch Time: 0m 5s\n",
            "\tTrain Loss: 0.142 | Train Acc: 95.29%\n",
            "\t Val. Loss: 0.303 |  Val. Acc: 92.18%\n",
            "\n",
            "Epoch: 39 | Epoch Time: 0m 4s\n",
            "\tTrain Loss: 0.133 | Train Acc: 95.58%\n",
            "\t Val. Loss: 0.321 |  Val. Acc: 91.70%\n",
            "\n",
            "Epoch: 40 | Epoch Time: 0m 5s\n",
            "\tTrain Loss: 0.131 | Train Acc: 95.70%\n",
            "\t Val. Loss: 0.310 |  Val. Acc: 91.85%\n",
            "\n",
            "Epoch: 41 | Epoch Time: 0m 5s\n",
            "\tTrain Loss: 0.140 | Train Acc: 95.37%\n",
            "\t Val. Loss: 0.300 |  Val. Acc: 92.14%\n",
            "\n",
            "Epoch: 42 | Epoch Time: 0m 5s\n",
            "\tTrain Loss: 0.131 | Train Acc: 95.62%\n",
            "\t Val. Loss: 0.307 |  Val. Acc: 92.10%\n",
            "\n",
            "Epoch: 43 | Epoch Time: 0m 5s\n",
            "\tTrain Loss: 0.127 | Train Acc: 95.77%\n",
            "\t Val. Loss: 0.306 |  Val. Acc: 92.27%\n",
            "\n",
            "Epoch: 44 | Epoch Time: 0m 5s\n",
            "\tTrain Loss: 0.120 | Train Acc: 96.04%\n",
            "\t Val. Loss: 0.316 |  Val. Acc: 92.15%\n",
            "\n",
            "Epoch: 45 | Epoch Time: 0m 5s\n",
            "\tTrain Loss: 0.124 | Train Acc: 95.94%\n",
            "\t Val. Loss: 0.314 |  Val. Acc: 91.90%\n",
            "\n",
            "Epoch: 46 | Epoch Time: 0m 5s\n",
            "\tTrain Loss: 0.130 | Train Acc: 95.64%\n",
            "\t Val. Loss: 0.321 |  Val. Acc: 91.82%\n",
            "\n",
            "Epoch: 47 | Epoch Time: 0m 5s\n",
            "\tTrain Loss: 0.122 | Train Acc: 95.89%\n",
            "\t Val. Loss: 0.312 |  Val. Acc: 91.79%\n",
            "\n",
            "Epoch: 48 | Epoch Time: 0m 5s\n",
            "\tTrain Loss: 0.118 | Train Acc: 96.06%\n",
            "\t Val. Loss: 0.319 |  Val. Acc: 92.06%\n",
            "\n",
            "Epoch: 49 | Epoch Time: 0m 5s\n",
            "\tTrain Loss: 0.114 | Train Acc: 96.24%\n",
            "\t Val. Loss: 0.323 |  Val. Acc: 91.99%\n",
            "\n",
            "Epoch: 50 | Epoch Time: 0m 5s\n",
            "\tTrain Loss: 0.122 | Train Acc: 95.99%\n",
            "\t Val. Loss: 0.335 |  Val. Acc: 91.77%\n"
          ],
          "name": "stdout"
        }
      ]
    },
    {
      "cell_type": "code",
      "metadata": {
        "colab": {
          "base_uri": "https://localhost:8080/"
        },
        "id": "k0sLA6hWv6SU",
        "outputId": "aed4311c-d4c8-408a-aa56-ca3e8749d688"
      },
      "source": [
        "best_epoch = np.argmax(statistics[\"val_acc_values\"]) + 1\n",
        "best_acc_val = statistics[\"val_acc_values\"][best_epoch - 1]\n",
        "print(\"Best val accuracy: {:.3f} epoch: {}.\".format(best_acc_val,best_epoch))"
      ],
      "execution_count": null,
      "outputs": [
        {
          "output_type": "stream",
          "text": [
            "Best val accuracy: 0.923 epoch: 43.\n"
          ],
          "name": "stdout"
        }
      ]
    },
    {
      "cell_type": "markdown",
      "metadata": {
        "id": "XgG_Vt0L_RWc"
      },
      "source": [
        "#Modifications"
      ]
    },
    {
      "cell_type": "markdown",
      "metadata": {
        "id": "btDjQD8yDRLh"
      },
      "source": [
        "##GRU"
      ]
    },
    {
      "cell_type": "code",
      "metadata": {
        "id": "LBefTgeKZDbe"
      },
      "source": [
        "class GRU(nn.Module):\n",
        "\n",
        "  def __init__(self, embedding_dim, hidden_dim, output_dim):\n",
        "    \n",
        "    super().__init__()\n",
        "            \n",
        "    # gru layer\n",
        "    self.gru = nn.GRU(embedding_dim, hidden_dim, bidirectional = True)\n",
        "    \n",
        "    # dense layer\n",
        "    self.fc = nn.Linear(hidden_dim * 2, output_dim)\n",
        "\n",
        "    # dropout\n",
        "    self.dropout = nn.Dropout(0.25)\n",
        "\n",
        "      \n",
        "  def forward(self, embedded):\n",
        "\n",
        "    # pass embeddings into GRU  \n",
        "    outputs, hidden = self.gru(self.dropout(embedded))\n",
        "    \n",
        "    # get the predictions of the tags\n",
        "    predictions = self.fc(outputs)\n",
        "    \n",
        "    return predictions"
      ],
      "execution_count": null,
      "outputs": []
    },
    {
      "cell_type": "code",
      "metadata": {
        "colab": {
          "base_uri": "https://localhost:8080/"
        },
        "id": "QDxzR_8tZDbf",
        "outputId": "fa9fc573-d5f4-4d8c-d5c5-a4f0781268c2"
      },
      "source": [
        "# initialize the model, the weights and define the optimizer\n",
        "\n",
        "gru = GRU(EMBEDDING_DIM, HIDDEN_DIM, OUTPUT_DIM)\n",
        "\n",
        "gru.apply(init_weights)\n",
        "\n",
        "print(\"The model has {:n} trainable parameters\".format(count_parameters(gru)))\n",
        "\n",
        "optimizer = optim.Adam(gru.parameters(), lr=0.01)\n",
        "\n",
        "# place the model on the GPU, if we have one\n",
        "gru = gru.to(device)\n"
      ],
      "execution_count": null,
      "outputs": [
        {
          "output_type": "stream",
          "text": [
            "The model has 69,678 trainable parameters\n"
          ],
          "name": "stdout"
        }
      ]
    },
    {
      "cell_type": "code",
      "metadata": {
        "id": "EF1vNLqDZDbg"
      },
      "source": [
        "# uncomment the line below to show tensorboard plots of the training\n",
        "# %tensorboard --logdir=\"logs/gru\""
      ],
      "execution_count": null,
      "outputs": []
    },
    {
      "cell_type": "code",
      "metadata": {
        "colab": {
          "base_uri": "https://localhost:8080/"
        },
        "id": "3EGy_WuqZDbg",
        "outputId": "0f008df5-cb45-415e-95c4-17ad98710357"
      },
      "source": [
        "log_interval = 20\n",
        "writer = torch.utils.tensorboard.writer.SummaryWriter(log_dir=os.path.join(\"logs\", \"gru\"))\n",
        "statistics = training_loop(writer, gru, N_EPOCHS,train_iterator,val_iterator,optimizer,criterion,TAG_PAD_IDX, TRAIN_TEXT, VAL_TEXT, log_interval)\n",
        "writer.close()"
      ],
      "execution_count": null,
      "outputs": [
        {
          "output_type": "stream",
          "text": [
            "\n",
            "Epoch: 01 | Epoch Time: 0m 5s\n",
            "\tTrain Loss: 1.756 | Train Acc: 54.23%\n",
            "\t Val. Loss: 0.788 |  Val. Acc: 77.77%\n",
            "\n",
            "Epoch: 02 | Epoch Time: 0m 5s\n",
            "\tTrain Loss: 0.709 | Train Acc: 79.02%\n",
            "\t Val. Loss: 0.538 |  Val. Acc: 84.57%\n",
            "\n",
            "Epoch: 03 | Epoch Time: 0m 5s\n",
            "\tTrain Loss: 0.560 | Train Acc: 83.07%\n",
            "\t Val. Loss: 0.459 |  Val. Acc: 87.36%\n",
            "\n",
            "Epoch: 04 | Epoch Time: 0m 5s\n",
            "\tTrain Loss: 0.468 | Train Acc: 85.55%\n",
            "\t Val. Loss: 0.418 |  Val. Acc: 88.04%\n",
            "\n",
            "Epoch: 05 | Epoch Time: 0m 5s\n",
            "\tTrain Loss: 0.431 | Train Acc: 86.82%\n",
            "\t Val. Loss: 0.393 |  Val. Acc: 88.77%\n",
            "\n",
            "Epoch: 06 | Epoch Time: 0m 5s\n",
            "\tTrain Loss: 0.391 | Train Acc: 87.92%\n",
            "\t Val. Loss: 0.367 |  Val. Acc: 89.53%\n",
            "\n",
            "Epoch: 07 | Epoch Time: 0m 5s\n",
            "\tTrain Loss: 0.348 | Train Acc: 89.38%\n",
            "\t Val. Loss: 0.364 |  Val. Acc: 89.68%\n",
            "\n",
            "Epoch: 08 | Epoch Time: 0m 6s\n",
            "\tTrain Loss: 0.335 | Train Acc: 89.33%\n",
            "\t Val. Loss: 0.360 |  Val. Acc: 89.73%\n",
            "\n",
            "Epoch: 09 | Epoch Time: 0m 5s\n",
            "\tTrain Loss: 0.314 | Train Acc: 90.26%\n",
            "\t Val. Loss: 0.337 |  Val. Acc: 90.15%\n",
            "\n",
            "Epoch: 10 | Epoch Time: 0m 5s\n",
            "\tTrain Loss: 0.294 | Train Acc: 90.64%\n",
            "\t Val. Loss: 0.327 |  Val. Acc: 90.67%\n",
            "\n",
            "Epoch: 11 | Epoch Time: 0m 5s\n",
            "\tTrain Loss: 0.277 | Train Acc: 91.25%\n",
            "\t Val. Loss: 0.330 |  Val. Acc: 90.65%\n",
            "\n",
            "Epoch: 12 | Epoch Time: 0m 5s\n",
            "\tTrain Loss: 0.269 | Train Acc: 91.41%\n",
            "\t Val. Loss: 0.330 |  Val. Acc: 90.77%\n",
            "\n",
            "Epoch: 13 | Epoch Time: 0m 5s\n",
            "\tTrain Loss: 0.259 | Train Acc: 91.68%\n",
            "\t Val. Loss: 0.318 |  Val. Acc: 91.09%\n",
            "\n",
            "Epoch: 14 | Epoch Time: 0m 5s\n",
            "\tTrain Loss: 0.242 | Train Acc: 92.25%\n",
            "\t Val. Loss: 0.315 |  Val. Acc: 91.09%\n",
            "\n",
            "Epoch: 15 | Epoch Time: 0m 5s\n",
            "\tTrain Loss: 0.230 | Train Acc: 92.70%\n",
            "\t Val. Loss: 0.319 |  Val. Acc: 91.07%\n",
            "\n",
            "Epoch: 16 | Epoch Time: 0m 5s\n",
            "\tTrain Loss: 0.219 | Train Acc: 92.92%\n",
            "\t Val. Loss: 0.320 |  Val. Acc: 91.31%\n",
            "\n",
            "Epoch: 17 | Epoch Time: 0m 5s\n",
            "\tTrain Loss: 0.217 | Train Acc: 93.06%\n",
            "\t Val. Loss: 0.321 |  Val. Acc: 91.06%\n",
            "\n",
            "Epoch: 18 | Epoch Time: 0m 5s\n",
            "\tTrain Loss: 0.213 | Train Acc: 93.20%\n",
            "\t Val. Loss: 0.318 |  Val. Acc: 90.86%\n",
            "\n",
            "Epoch: 19 | Epoch Time: 0m 5s\n",
            "\tTrain Loss: 0.208 | Train Acc: 93.14%\n",
            "\t Val. Loss: 0.325 |  Val. Acc: 90.50%\n",
            "\n",
            "Epoch: 20 | Epoch Time: 0m 5s\n",
            "\tTrain Loss: 0.204 | Train Acc: 93.32%\n",
            "\t Val. Loss: 0.318 |  Val. Acc: 91.02%\n",
            "\n",
            "Epoch: 21 | Epoch Time: 0m 5s\n",
            "\tTrain Loss: 0.195 | Train Acc: 93.58%\n",
            "\t Val. Loss: 0.318 |  Val. Acc: 91.04%\n",
            "\n",
            "Epoch: 22 | Epoch Time: 0m 5s\n",
            "\tTrain Loss: 0.200 | Train Acc: 93.43%\n",
            "\t Val. Loss: 0.323 |  Val. Acc: 90.91%\n",
            "\n",
            "Epoch: 23 | Epoch Time: 0m 5s\n",
            "\tTrain Loss: 0.197 | Train Acc: 93.42%\n",
            "\t Val. Loss: 0.325 |  Val. Acc: 90.95%\n",
            "\n",
            "Epoch: 24 | Epoch Time: 0m 5s\n",
            "\tTrain Loss: 0.193 | Train Acc: 93.65%\n",
            "\t Val. Loss: 0.327 |  Val. Acc: 90.94%\n",
            "\n",
            "Epoch: 25 | Epoch Time: 0m 5s\n",
            "\tTrain Loss: 0.184 | Train Acc: 93.98%\n",
            "\t Val. Loss: 0.329 |  Val. Acc: 91.00%\n",
            "\n",
            "Epoch: 26 | Epoch Time: 0m 5s\n",
            "\tTrain Loss: 0.180 | Train Acc: 94.13%\n",
            "\t Val. Loss: 0.326 |  Val. Acc: 91.20%\n",
            "\n",
            "Epoch: 27 | Epoch Time: 0m 5s\n",
            "\tTrain Loss: 0.178 | Train Acc: 94.15%\n",
            "\t Val. Loss: 0.314 |  Val. Acc: 91.46%\n",
            "\n",
            "Epoch: 28 | Epoch Time: 0m 5s\n",
            "\tTrain Loss: 0.177 | Train Acc: 94.06%\n",
            "\t Val. Loss: 0.323 |  Val. Acc: 91.28%\n",
            "\n",
            "Epoch: 29 | Epoch Time: 0m 5s\n",
            "\tTrain Loss: 0.173 | Train Acc: 94.31%\n",
            "\t Val. Loss: 0.327 |  Val. Acc: 91.18%\n",
            "\n",
            "Epoch: 30 | Epoch Time: 0m 5s\n",
            "\tTrain Loss: 0.168 | Train Acc: 94.42%\n",
            "\t Val. Loss: 0.318 |  Val. Acc: 91.29%\n",
            "\n",
            "Epoch: 31 | Epoch Time: 0m 5s\n",
            "\tTrain Loss: 0.167 | Train Acc: 94.41%\n",
            "\t Val. Loss: 0.323 |  Val. Acc: 91.34%\n",
            "\n",
            "Epoch: 32 | Epoch Time: 0m 5s\n",
            "\tTrain Loss: 0.169 | Train Acc: 94.32%\n",
            "\t Val. Loss: 0.328 |  Val. Acc: 91.17%\n",
            "\n",
            "Epoch: 33 | Epoch Time: 0m 5s\n",
            "\tTrain Loss: 0.159 | Train Acc: 94.71%\n",
            "\t Val. Loss: 0.335 |  Val. Acc: 91.25%\n",
            "\n",
            "Epoch: 34 | Epoch Time: 0m 5s\n",
            "\tTrain Loss: 0.159 | Train Acc: 94.74%\n",
            "\t Val. Loss: 0.336 |  Val. Acc: 90.98%\n",
            "\n",
            "Epoch: 35 | Epoch Time: 0m 5s\n",
            "\tTrain Loss: 0.164 | Train Acc: 94.48%\n",
            "\t Val. Loss: 0.335 |  Val. Acc: 91.25%\n",
            "\n",
            "Epoch: 36 | Epoch Time: 0m 5s\n",
            "\tTrain Loss: 0.154 | Train Acc: 94.86%\n",
            "\t Val. Loss: 0.325 |  Val. Acc: 91.77%\n",
            "\n",
            "Epoch: 37 | Epoch Time: 0m 5s\n",
            "\tTrain Loss: 0.153 | Train Acc: 94.89%\n",
            "\t Val. Loss: 0.320 |  Val. Acc: 91.59%\n",
            "\n",
            "Epoch: 38 | Epoch Time: 0m 5s\n",
            "\tTrain Loss: 0.159 | Train Acc: 94.75%\n",
            "\t Val. Loss: 0.340 |  Val. Acc: 91.45%\n",
            "\n",
            "Epoch: 39 | Epoch Time: 0m 5s\n",
            "\tTrain Loss: 0.153 | Train Acc: 94.93%\n",
            "\t Val. Loss: 0.333 |  Val. Acc: 91.54%\n",
            "\n",
            "Epoch: 40 | Epoch Time: 0m 5s\n",
            "\tTrain Loss: 0.153 | Train Acc: 94.70%\n",
            "\t Val. Loss: 0.333 |  Val. Acc: 91.50%\n",
            "\n",
            "Epoch: 41 | Epoch Time: 0m 5s\n",
            "\tTrain Loss: 0.157 | Train Acc: 94.82%\n",
            "\t Val. Loss: 0.341 |  Val. Acc: 91.31%\n",
            "\n",
            "Epoch: 42 | Epoch Time: 0m 5s\n",
            "\tTrain Loss: 0.156 | Train Acc: 94.76%\n",
            "\t Val. Loss: 0.327 |  Val. Acc: 91.77%\n",
            "\n",
            "Epoch: 43 | Epoch Time: 0m 5s\n",
            "\tTrain Loss: 0.164 | Train Acc: 94.49%\n",
            "\t Val. Loss: 0.351 |  Val. Acc: 91.45%\n",
            "\n",
            "Epoch: 44 | Epoch Time: 0m 5s\n",
            "\tTrain Loss: 0.163 | Train Acc: 94.48%\n",
            "\t Val. Loss: 0.335 |  Val. Acc: 91.38%\n",
            "\n",
            "Epoch: 45 | Epoch Time: 0m 5s\n",
            "\tTrain Loss: 0.154 | Train Acc: 94.81%\n",
            "\t Val. Loss: 0.341 |  Val. Acc: 91.46%\n",
            "\n",
            "Epoch: 46 | Epoch Time: 0m 5s\n",
            "\tTrain Loss: 0.153 | Train Acc: 94.84%\n",
            "\t Val. Loss: 0.349 |  Val. Acc: 91.35%\n",
            "\n",
            "Epoch: 47 | Epoch Time: 0m 5s\n",
            "\tTrain Loss: 0.147 | Train Acc: 95.09%\n",
            "\t Val. Loss: 0.346 |  Val. Acc: 91.44%\n",
            "\n",
            "Epoch: 48 | Epoch Time: 0m 5s\n",
            "\tTrain Loss: 0.154 | Train Acc: 94.82%\n",
            "\t Val. Loss: 0.337 |  Val. Acc: 91.56%\n",
            "\n",
            "Epoch: 49 | Epoch Time: 0m 5s\n",
            "\tTrain Loss: 0.150 | Train Acc: 95.01%\n",
            "\t Val. Loss: 0.337 |  Val. Acc: 91.61%\n",
            "\n",
            "Epoch: 50 | Epoch Time: 0m 5s\n",
            "\tTrain Loss: 0.146 | Train Acc: 95.09%\n",
            "\t Val. Loss: 0.348 |  Val. Acc: 91.49%\n"
          ],
          "name": "stdout"
        }
      ]
    },
    {
      "cell_type": "code",
      "metadata": {
        "colab": {
          "base_uri": "https://localhost:8080/"
        },
        "id": "-5y2Vie_ZDbg",
        "outputId": "d8acada5-cafa-47b3-ed25-d67644f4915f"
      },
      "source": [
        "best_epoch = np.argmax(statistics[\"val_acc_values\"]) + 1\n",
        "best_acc_val = statistics[\"val_acc_values\"][best_epoch - 1]\n",
        "print(\"Best val accuracy: {:.3f} epoch: {}.\".format(best_acc_val,best_epoch))"
      ],
      "execution_count": null,
      "outputs": [
        {
          "output_type": "stream",
          "text": [
            "Best val accuracy: 0.918 epoch: 36.\n"
          ],
          "name": "stdout"
        }
      ]
    },
    {
      "cell_type": "markdown",
      "metadata": {
        "id": "1b1Gox_bDX7N"
      },
      "source": [
        "## 2 Stacked BiLSTM"
      ]
    },
    {
      "cell_type": "code",
      "metadata": {
        "id": "1LxfBpfnZjhS"
      },
      "source": [
        "class BiLSTM2(nn.Module):\n",
        "\n",
        "  def __init__(self, embedding_dim, hidden_dim, output_dim, n_layers):\n",
        "      \n",
        "    super().__init__()\n",
        "    \n",
        "    # bidirectional lstm with 2 layers\n",
        "    self.lstm = nn.LSTM(embedding_dim, hidden_dim,  num_layers = n_layers,  bidirectional = True)\n",
        "    \n",
        "    # dense layer\n",
        "    self.fc = nn.Linear(hidden_dim * 2, output_dim)\n",
        "\n",
        "    # dropout\n",
        "    self.dropout = nn.Dropout(0.25)\n",
        "\n",
        "      \n",
        "  def forward(self, embedded):\n",
        "    \n",
        "    # pass embeddings into LSTM  \n",
        "    outputs, (hidden, cell) = self.lstm(self.dropout(embedded))\n",
        "    \n",
        "    # get the predictions of the tags\n",
        "    predictions = self.fc(outputs)\n",
        "    \n",
        "    return predictions"
      ],
      "execution_count": null,
      "outputs": []
    },
    {
      "cell_type": "code",
      "metadata": {
        "colab": {
          "base_uri": "https://localhost:8080/"
        },
        "id": "RDa4Vn9RZjhS",
        "outputId": "83877dcd-42bd-4dcb-eb22-ef383ecec1bc"
      },
      "source": [
        "# define the number of bilstm layers\n",
        "N_LAYERS = 2\n",
        "\n",
        "# initialize the model, the weights and define the optimizer\n",
        "bilstm2 = BiLSTM2(EMBEDDING_DIM, HIDDEN_DIM, OUTPUT_DIM, N_LAYERS)\n",
        "\n",
        "bilstm2.apply(init_weights)\n",
        "\n",
        "print(\"The model has {:n} trainable parameters\".format(count_parameters(bilstm2)))\n",
        "\n",
        "optimizer = optim.Adam(bilstm2.parameters(), lr = 0.01)\n",
        "\n",
        "# place model on the GPU, if we have one\n",
        "bilstm2 = bilstm2.to(device)\n"
      ],
      "execution_count": null,
      "outputs": [
        {
          "output_type": "stream",
          "text": [
            "The model has 190,254 trainable parameters\n"
          ],
          "name": "stdout"
        }
      ]
    },
    {
      "cell_type": "code",
      "metadata": {
        "id": "fEfLyq68ZjhT"
      },
      "source": [
        "# uncomment the line below to show tensorboard plots of the training\n",
        "# %tensorboard --logdir=\"logs/bilstm2\""
      ],
      "execution_count": null,
      "outputs": []
    },
    {
      "cell_type": "code",
      "metadata": {
        "colab": {
          "base_uri": "https://localhost:8080/"
        },
        "id": "KtdtfTHrZjhT",
        "outputId": "98db8589-b09e-41bd-8127-fac853b046b1"
      },
      "source": [
        "log_interval = 20\n",
        "writer = torch.utils.tensorboard.writer.SummaryWriter(log_dir=os.path.join(\"logs\", \"bilstm2\"))\n",
        "statistics = training_loop(writer, bilstm2, N_EPOCHS,train_iterator,val_iterator,optimizer,criterion,TAG_PAD_IDX, TRAIN_TEXT, VAL_TEXT, log_interval)\n",
        "writer.close()"
      ],
      "execution_count": null,
      "outputs": [
        {
          "output_type": "stream",
          "text": [
            "\n",
            "Epoch: 01 | Epoch Time: 0m 7s\n",
            "\tTrain Loss: 2.447 | Train Acc: 33.78%\n",
            "\t Val. Loss: 1.342 |  Val. Acc: 63.78%\n",
            "\n",
            "Epoch: 02 | Epoch Time: 0m 6s\n",
            "\tTrain Loss: 1.011 | Train Acc: 71.67%\n",
            "\t Val. Loss: 0.666 |  Val. Acc: 81.09%\n",
            "\n",
            "Epoch: 03 | Epoch Time: 0m 7s\n",
            "\tTrain Loss: 0.654 | Train Acc: 81.09%\n",
            "\t Val. Loss: 0.498 |  Val. Acc: 85.97%\n",
            "\n",
            "Epoch: 04 | Epoch Time: 0m 7s\n",
            "\tTrain Loss: 0.506 | Train Acc: 85.07%\n",
            "\t Val. Loss: 0.441 |  Val. Acc: 87.51%\n",
            "\n",
            "Epoch: 05 | Epoch Time: 0m 7s\n",
            "\tTrain Loss: 0.433 | Train Acc: 87.13%\n",
            "\t Val. Loss: 0.375 |  Val. Acc: 89.37%\n",
            "\n",
            "Epoch: 06 | Epoch Time: 0m 7s\n",
            "\tTrain Loss: 0.363 | Train Acc: 89.03%\n",
            "\t Val. Loss: 0.363 |  Val. Acc: 89.67%\n",
            "\n",
            "Epoch: 07 | Epoch Time: 0m 7s\n",
            "\tTrain Loss: 0.323 | Train Acc: 90.07%\n",
            "\t Val. Loss: 0.324 |  Val. Acc: 90.58%\n",
            "\n",
            "Epoch: 08 | Epoch Time: 0m 7s\n",
            "\tTrain Loss: 0.284 | Train Acc: 91.24%\n",
            "\t Val. Loss: 0.319 |  Val. Acc: 90.75%\n",
            "\n",
            "Epoch: 09 | Epoch Time: 0m 7s\n",
            "\tTrain Loss: 0.260 | Train Acc: 91.90%\n",
            "\t Val. Loss: 0.304 |  Val. Acc: 91.56%\n",
            "\n",
            "Epoch: 10 | Epoch Time: 0m 6s\n",
            "\tTrain Loss: 0.238 | Train Acc: 92.70%\n",
            "\t Val. Loss: 0.296 |  Val. Acc: 91.51%\n",
            "\n",
            "Epoch: 11 | Epoch Time: 0m 7s\n",
            "\tTrain Loss: 0.227 | Train Acc: 93.00%\n",
            "\t Val. Loss: 0.290 |  Val. Acc: 92.00%\n",
            "\n",
            "Epoch: 12 | Epoch Time: 0m 7s\n",
            "\tTrain Loss: 0.208 | Train Acc: 93.46%\n",
            "\t Val. Loss: 0.286 |  Val. Acc: 91.98%\n",
            "\n",
            "Epoch: 13 | Epoch Time: 0m 7s\n",
            "\tTrain Loss: 0.193 | Train Acc: 93.94%\n",
            "\t Val. Loss: 0.280 |  Val. Acc: 92.38%\n",
            "\n",
            "Epoch: 14 | Epoch Time: 0m 7s\n",
            "\tTrain Loss: 0.177 | Train Acc: 94.40%\n",
            "\t Val. Loss: 0.278 |  Val. Acc: 92.44%\n",
            "\n",
            "Epoch: 15 | Epoch Time: 0m 7s\n",
            "\tTrain Loss: 0.172 | Train Acc: 94.51%\n",
            "\t Val. Loss: 0.277 |  Val. Acc: 92.51%\n",
            "\n",
            "Epoch: 16 | Epoch Time: 0m 6s\n",
            "\tTrain Loss: 0.163 | Train Acc: 94.63%\n",
            "\t Val. Loss: 0.274 |  Val. Acc: 92.40%\n",
            "\n",
            "Epoch: 17 | Epoch Time: 0m 7s\n",
            "\tTrain Loss: 0.154 | Train Acc: 95.11%\n",
            "\t Val. Loss: 0.276 |  Val. Acc: 92.33%\n",
            "\n",
            "Epoch: 18 | Epoch Time: 0m 7s\n",
            "\tTrain Loss: 0.149 | Train Acc: 95.13%\n",
            "\t Val. Loss: 0.271 |  Val. Acc: 92.53%\n",
            "\n",
            "Epoch: 19 | Epoch Time: 0m 7s\n",
            "\tTrain Loss: 0.144 | Train Acc: 95.26%\n",
            "\t Val. Loss: 0.283 |  Val. Acc: 92.43%\n",
            "\n",
            "Epoch: 20 | Epoch Time: 0m 7s\n",
            "\tTrain Loss: 0.142 | Train Acc: 95.39%\n",
            "\t Val. Loss: 0.270 |  Val. Acc: 92.54%\n",
            "\n",
            "Epoch: 21 | Epoch Time: 0m 7s\n",
            "\tTrain Loss: 0.136 | Train Acc: 95.44%\n",
            "\t Val. Loss: 0.274 |  Val. Acc: 92.24%\n",
            "\n",
            "Epoch: 22 | Epoch Time: 0m 7s\n",
            "\tTrain Loss: 0.128 | Train Acc: 95.91%\n",
            "\t Val. Loss: 0.285 |  Val. Acc: 92.35%\n",
            "\n",
            "Epoch: 23 | Epoch Time: 0m 6s\n",
            "\tTrain Loss: 0.121 | Train Acc: 95.96%\n",
            "\t Val. Loss: 0.278 |  Val. Acc: 92.59%\n",
            "\n",
            "Epoch: 24 | Epoch Time: 0m 7s\n",
            "\tTrain Loss: 0.127 | Train Acc: 95.80%\n",
            "\t Val. Loss: 0.275 |  Val. Acc: 92.35%\n",
            "\n",
            "Epoch: 25 | Epoch Time: 0m 7s\n",
            "\tTrain Loss: 0.120 | Train Acc: 96.04%\n",
            "\t Val. Loss: 0.271 |  Val. Acc: 92.55%\n",
            "\n",
            "Epoch: 26 | Epoch Time: 0m 7s\n",
            "\tTrain Loss: 0.113 | Train Acc: 96.28%\n",
            "\t Val. Loss: 0.282 |  Val. Acc: 92.39%\n",
            "\n",
            "Epoch: 27 | Epoch Time: 0m 6s\n",
            "\tTrain Loss: 0.110 | Train Acc: 96.41%\n",
            "\t Val. Loss: 0.281 |  Val. Acc: 92.46%\n",
            "\n",
            "Epoch: 28 | Epoch Time: 0m 7s\n",
            "\tTrain Loss: 0.110 | Train Acc: 96.36%\n",
            "\t Val. Loss: 0.291 |  Val. Acc: 92.27%\n",
            "\n",
            "Epoch: 29 | Epoch Time: 0m 7s\n",
            "\tTrain Loss: 0.108 | Train Acc: 96.52%\n",
            "\t Val. Loss: 0.292 |  Val. Acc: 92.37%\n",
            "\n",
            "Epoch: 30 | Epoch Time: 0m 7s\n",
            "\tTrain Loss: 0.104 | Train Acc: 96.50%\n",
            "\t Val. Loss: 0.284 |  Val. Acc: 92.71%\n",
            "\n",
            "Epoch: 31 | Epoch Time: 0m 7s\n",
            "\tTrain Loss: 0.101 | Train Acc: 96.58%\n",
            "\t Val. Loss: 0.290 |  Val. Acc: 92.40%\n",
            "\n",
            "Epoch: 32 | Epoch Time: 0m 7s\n",
            "\tTrain Loss: 0.101 | Train Acc: 96.60%\n",
            "\t Val. Loss: 0.289 |  Val. Acc: 92.61%\n",
            "\n",
            "Epoch: 33 | Epoch Time: 0m 7s\n",
            "\tTrain Loss: 0.102 | Train Acc: 96.47%\n",
            "\t Val. Loss: 0.287 |  Val. Acc: 92.64%\n",
            "\n",
            "Epoch: 34 | Epoch Time: 0m 7s\n",
            "\tTrain Loss: 0.096 | Train Acc: 96.75%\n",
            "\t Val. Loss: 0.296 |  Val. Acc: 92.43%\n",
            "\n",
            "Epoch: 35 | Epoch Time: 0m 7s\n",
            "\tTrain Loss: 0.093 | Train Acc: 96.83%\n",
            "\t Val. Loss: 0.303 |  Val. Acc: 92.53%\n",
            "\n",
            "Epoch: 36 | Epoch Time: 0m 7s\n",
            "\tTrain Loss: 0.090 | Train Acc: 96.94%\n",
            "\t Val. Loss: 0.295 |  Val. Acc: 92.41%\n",
            "\n",
            "Epoch: 37 | Epoch Time: 0m 7s\n",
            "\tTrain Loss: 0.086 | Train Acc: 97.08%\n",
            "\t Val. Loss: 0.292 |  Val. Acc: 92.64%\n",
            "\n",
            "Epoch: 38 | Epoch Time: 0m 7s\n",
            "\tTrain Loss: 0.083 | Train Acc: 97.21%\n",
            "\t Val. Loss: 0.305 |  Val. Acc: 92.46%\n",
            "\n",
            "Epoch: 39 | Epoch Time: 0m 7s\n",
            "\tTrain Loss: 0.086 | Train Acc: 97.10%\n",
            "\t Val. Loss: 0.307 |  Val. Acc: 92.31%\n",
            "\n",
            "Epoch: 40 | Epoch Time: 0m 7s\n",
            "\tTrain Loss: 0.082 | Train Acc: 97.20%\n",
            "\t Val. Loss: 0.300 |  Val. Acc: 92.35%\n",
            "\n",
            "Epoch: 41 | Epoch Time: 0m 7s\n",
            "\tTrain Loss: 0.081 | Train Acc: 97.31%\n",
            "\t Val. Loss: 0.299 |  Val. Acc: 92.53%\n",
            "\n",
            "Epoch: 42 | Epoch Time: 0m 6s\n",
            "\tTrain Loss: 0.085 | Train Acc: 97.14%\n",
            "\t Val. Loss: 0.313 |  Val. Acc: 92.55%\n",
            "\n",
            "Epoch: 43 | Epoch Time: 0m 7s\n",
            "\tTrain Loss: 0.084 | Train Acc: 97.20%\n",
            "\t Val. Loss: 0.317 |  Val. Acc: 92.45%\n",
            "\n",
            "Epoch: 44 | Epoch Time: 0m 7s\n",
            "\tTrain Loss: 0.078 | Train Acc: 97.36%\n",
            "\t Val. Loss: 0.309 |  Val. Acc: 92.58%\n",
            "\n",
            "Epoch: 45 | Epoch Time: 0m 7s\n",
            "\tTrain Loss: 0.083 | Train Acc: 97.20%\n",
            "\t Val. Loss: 0.308 |  Val. Acc: 92.32%\n",
            "\n",
            "Epoch: 46 | Epoch Time: 0m 7s\n",
            "\tTrain Loss: 0.077 | Train Acc: 97.37%\n",
            "\t Val. Loss: 0.310 |  Val. Acc: 92.41%\n",
            "\n",
            "Epoch: 47 | Epoch Time: 0m 6s\n",
            "\tTrain Loss: 0.077 | Train Acc: 97.43%\n",
            "\t Val. Loss: 0.312 |  Val. Acc: 92.25%\n",
            "\n",
            "Epoch: 48 | Epoch Time: 0m 7s\n",
            "\tTrain Loss: 0.075 | Train Acc: 97.47%\n",
            "\t Val. Loss: 0.312 |  Val. Acc: 92.39%\n",
            "\n",
            "Epoch: 49 | Epoch Time: 0m 7s\n",
            "\tTrain Loss: 0.074 | Train Acc: 97.52%\n",
            "\t Val. Loss: 0.315 |  Val. Acc: 92.54%\n",
            "\n",
            "Epoch: 50 | Epoch Time: 0m 7s\n",
            "\tTrain Loss: 0.075 | Train Acc: 97.51%\n",
            "\t Val. Loss: 0.310 |  Val. Acc: 92.61%\n"
          ],
          "name": "stdout"
        }
      ]
    },
    {
      "cell_type": "code",
      "metadata": {
        "colab": {
          "base_uri": "https://localhost:8080/"
        },
        "id": "EcMV7x7PZjhU",
        "outputId": "70c7d32a-cfad-4bb9-fb78-7b8abf2ca3a1"
      },
      "source": [
        "best_epoch = np.argmax(statistics[\"val_acc_values\"]) + 1\n",
        "best_acc_val = statistics[\"val_acc_values\"][best_epoch - 1]\n",
        "print(\"Best val accuracy: {:.3f} epoch: {}.\".format(best_acc_val,best_epoch))"
      ],
      "execution_count": null,
      "outputs": [
        {
          "output_type": "stream",
          "text": [
            "Best val accuracy: 0.927 epoch: 30.\n"
          ],
          "name": "stdout"
        }
      ]
    },
    {
      "cell_type": "markdown",
      "metadata": {
        "id": "v-fwrWInDfdR"
      },
      "source": [
        "##BiLSTM + CRF"
      ]
    },
    {
      "cell_type": "code",
      "metadata": {
        "colab": {
          "base_uri": "https://localhost:8080/"
        },
        "id": "cWMJ5zdeabFj",
        "outputId": "644ab68e-d002-4190-8e5f-57965084d782"
      },
      "source": [
        "# install the pytorch CRF package\n",
        "!pip install pytorch-crf"
      ],
      "execution_count": null,
      "outputs": [
        {
          "output_type": "stream",
          "text": [
            "Collecting pytorch-crf\n",
            "  Downloading https://files.pythonhosted.org/packages/96/7d/4c4688e26ea015fc118a0327e5726e6596836abce9182d3738be8ec2e32a/pytorch_crf-0.7.2-py3-none-any.whl\n",
            "Installing collected packages: pytorch-crf\n",
            "Successfully installed pytorch-crf-0.7.2\n"
          ],
          "name": "stdout"
        }
      ]
    },
    {
      "cell_type": "code",
      "metadata": {
        "id": "wderhbHb0amw"
      },
      "source": [
        "from torchcrf import CRF\n",
        "\n",
        "class BiLSTM_CRF(nn.Module):\n",
        "\n",
        "  def __init__(self, embedding_dim, hidden_dim, output_dim):\n",
        "    super(BiLSTM_CRF, self).__init__()\n",
        "    \n",
        "    # bidirectional lstm layer\n",
        "    self.lstm = nn.LSTM(embedding_dim, hidden_dim, bidirectional = True)\n",
        "    \n",
        "    # crf layer\n",
        "    self.crf = CRF(output_dim, batch_first=True)\n",
        "\n",
        "    # dense layer\n",
        "    self.fc = nn.Linear(hidden_dim*2, output_dim)\n",
        "\n",
        "    # dropout\n",
        "    self.dropout = nn.Dropout(0.25)\n",
        "\n",
        "  def _get_lstm_feature(self, embedded):\n",
        "    \n",
        "    # pass embeddings into LSTM\n",
        "    lstm_out, _ = self.lstm(self.dropout(embedded))\n",
        "\n",
        "    emission = self.fc(lstm_out)\n",
        "    return emission\n",
        "\n",
        "  # define the negative log likelihood loss for crf\n",
        "  def neg_log_likelihood(self, embedded, tags):\n",
        "    emission = self._get_lstm_feature(embedded)\n",
        "    loss = self.crf(emission, tags, reduction='mean')\n",
        "    return -loss\n",
        "\n",
        "\n",
        "  def forward(self, embedded):\n",
        "    \n",
        "    emission = self._get_lstm_feature(embedded)\n",
        "\n",
        "    # get the predictions of the tags\n",
        "    out = self.crf.decode(emission)\n",
        "    \n",
        "    return out"
      ],
      "execution_count": null,
      "outputs": []
    },
    {
      "cell_type": "code",
      "metadata": {
        "id": "2rkWhf2R0ghl"
      },
      "source": [
        "def train_crf(writer, model, iterator, optimizer, criterion, tag_pad_idx, log_interval, epoch, text_field):\n",
        "  \n",
        "  epoch_loss = 0\n",
        "  epoch_acc = 0\n",
        "\n",
        "  samples_train = 0\n",
        "  num_batches = len(iterator)\n",
        "  \n",
        "  model.train()\n",
        "  \n",
        "  for idx_batch, batch in enumerate(iterator):\n",
        "    \n",
        "    embedded = get_text_embedding(batch.words, text_field)\n",
        "    tags = batch.tags\n",
        "    \n",
        "    optimizer.zero_grad()\n",
        "    \n",
        "    predictions = model(embedded)  \n",
        "    \n",
        "    loss = criterion(embedded, tags)\n",
        "    \n",
        "    # transform the lists of predictions into tensors\n",
        "    if torch.cuda.is_available():\n",
        "      predictions =  torch.cuda.FloatTensor(predictions)\n",
        "    else:\n",
        "      predictions =  torch.FloatTensor(predictions)\n",
        "\n",
        "    predictions = predictions.view(-1)\n",
        "\n",
        "    tags = tags.view(-1)\n",
        "\n",
        "    samples_train += len(embedded) \n",
        "            \n",
        "    acc = categorical_accuracy(predictions, tags, tag_pad_idx, crf = True)\n",
        "    \n",
        "    loss.backward()\n",
        "    \n",
        "    optimizer.step()\n",
        "\n",
        "    epoch_loss += loss.item()\n",
        "    epoch_acc += acc.item()\n",
        "\n",
        "    if log_interval > 0:\n",
        "      if idx_batch % log_interval == 0:\n",
        "        running_loss = epoch_loss / samples_train\n",
        "        global_step = idx_batch + (epoch * num_batches) \n",
        "        writer.add_scalar(\"Metrics/Loss_Train_IT\", running_loss, global_step)\n",
        "    \n",
        "  return epoch_loss / len(iterator), epoch_acc / len(iterator)"
      ],
      "execution_count": null,
      "outputs": []
    },
    {
      "cell_type": "code",
      "metadata": {
        "id": "0EDD9Rpf0jcJ"
      },
      "source": [
        "def evaluate_crf(model, iterator, criterion, tag_pad_idx, text_field):\n",
        "\n",
        "  epoch_loss = 0\n",
        "  epoch_acc = 0\n",
        "\n",
        "  model.eval()\n",
        "\n",
        "  with torch.no_grad():\n",
        "\n",
        "    for batch in iterator:\n",
        "\n",
        "      embedded = get_text_embedding(batch.words, text_field)\n",
        "      tags = batch.tags\n",
        "\n",
        "      predictions = model(embedded)\n",
        "\n",
        "      loss = criterion(embedded, tags)\n",
        "      \n",
        "      # transform the lists of predictions into tensors\n",
        "      if torch.cuda.is_available():\n",
        "        predictions =  torch.cuda.FloatTensor(predictions)\n",
        "      else:\n",
        "        predictions =  torch.FloatTensor(predictions)\n",
        "\n",
        "      predictions = predictions.view(-1)\n",
        "      \n",
        "      tags = tags.view(-1)\n",
        "      \n",
        "      acc = categorical_accuracy(predictions, tags, tag_pad_idx, crf = True)\n",
        "\n",
        "      epoch_loss += loss.item()\n",
        "      epoch_acc += acc.item()\n",
        "    \n",
        "  return epoch_loss / len(iterator), epoch_acc / len(iterator)"
      ],
      "execution_count": null,
      "outputs": []
    },
    {
      "cell_type": "code",
      "metadata": {
        "colab": {
          "base_uri": "https://localhost:8080/"
        },
        "id": "30fS-1XXabFl",
        "outputId": "c27d930e-2819-4c39-b7dc-8dce91c4a7ac"
      },
      "source": [
        "# initialize the model, the weights and define the optimizer and the loss\n",
        "bilstm_crf = BiLSTM_CRF(EMBEDDING_DIM, HIDDEN_DIM, OUTPUT_DIM)\n",
        "\n",
        "bilstm_crf.apply(init_weights)\n",
        "\n",
        "print(\"The model has {:n} trainable parameters\".format(count_parameters(bilstm_crf)))\n",
        "\n",
        "optimizer = optim.Adam(bilstm_crf.parameters(), lr = 0.01)\n",
        "\n",
        "criterion  = bilstm_crf.neg_log_likelihood\n",
        "\n",
        "# place model on the GPU, if we have one\n",
        "bilstm_crf = bilstm_crf.to(device)\n"
      ],
      "execution_count": null,
      "outputs": [
        {
          "output_type": "stream",
          "text": [
            "The model has 93,134 trainable parameters\n"
          ],
          "name": "stdout"
        }
      ]
    },
    {
      "cell_type": "code",
      "metadata": {
        "id": "PQ08AmrNabFl"
      },
      "source": [
        "# uncomment the line below to show tensorboard plots of the training\n",
        "# %tensorboard --logdir=\"logs/bilstm_crf\""
      ],
      "execution_count": null,
      "outputs": []
    },
    {
      "cell_type": "code",
      "metadata": {
        "colab": {
          "base_uri": "https://localhost:8080/"
        },
        "id": "G01MX0pRabFl",
        "outputId": "ee96449b-2c31-4ff9-a212-d0a68e201bda"
      },
      "source": [
        "log_interval = 20\n",
        "writer = torch.utils.tensorboard.writer.SummaryWriter(log_dir=os.path.join(\"logs\", \"bilstm_crf\"))\n",
        "statistics =  training_loop(writer, bilstm_crf, N_EPOCHS,train_iterator,val_iterator,optimizer,criterion,TAG_PAD_IDX, TRAIN_TEXT, VAL_TEXT, log_interval, crf = True)\n",
        "writer.close()"
      ],
      "execution_count": null,
      "outputs": [
        {
          "output_type": "stream",
          "text": [
            "\n",
            "Epoch: 01 | Epoch Time: 0m 10s\n",
            "\tTrain Loss: 5.369 | Train Acc: 43.59%\n",
            "\t Val. Loss: 4.027 |  Val. Acc: 69.29%\n",
            "\n",
            "Epoch: 02 | Epoch Time: 0m 10s\n",
            "\tTrain Loss: 1.860 | Train Acc: 73.28%\n",
            "\t Val. Loss: 2.351 |  Val. Acc: 81.31%\n",
            "\n",
            "Epoch: 03 | Epoch Time: 0m 11s\n",
            "\tTrain Loss: 1.241 | Train Acc: 80.49%\n",
            "\t Val. Loss: 1.842 |  Val. Acc: 84.57%\n",
            "\n",
            "Epoch: 04 | Epoch Time: 0m 11s\n",
            "\tTrain Loss: 1.016 | Train Acc: 83.16%\n",
            "\t Val. Loss: 1.622 |  Val. Acc: 86.73%\n",
            "\n",
            "Epoch: 05 | Epoch Time: 0m 10s\n",
            "\tTrain Loss: 0.998 | Train Acc: 84.91%\n",
            "\t Val. Loss: 1.484 |  Val. Acc: 87.63%\n",
            "\n",
            "Epoch: 06 | Epoch Time: 0m 10s\n",
            "\tTrain Loss: 0.880 | Train Acc: 85.97%\n",
            "\t Val. Loss: 1.406 |  Val. Acc: 88.14%\n",
            "\n",
            "Epoch: 07 | Epoch Time: 0m 10s\n",
            "\tTrain Loss: 0.808 | Train Acc: 87.34%\n",
            "\t Val. Loss: 1.288 |  Val. Acc: 89.17%\n",
            "\n",
            "Epoch: 08 | Epoch Time: 0m 10s\n",
            "\tTrain Loss: 0.696 | Train Acc: 88.16%\n",
            "\t Val. Loss: 1.255 |  Val. Acc: 89.43%\n",
            "\n",
            "Epoch: 09 | Epoch Time: 0m 10s\n",
            "\tTrain Loss: 0.701 | Train Acc: 89.10%\n",
            "\t Val. Loss: 1.237 |  Val. Acc: 89.46%\n",
            "\n",
            "Epoch: 10 | Epoch Time: 0m 10s\n",
            "\tTrain Loss: 0.655 | Train Acc: 89.45%\n",
            "\t Val. Loss: 1.169 |  Val. Acc: 90.31%\n",
            "\n",
            "Epoch: 11 | Epoch Time: 0m 11s\n",
            "\tTrain Loss: 0.547 | Train Acc: 90.47%\n",
            "\t Val. Loss: 1.127 |  Val. Acc: 90.56%\n",
            "\n",
            "Epoch: 12 | Epoch Time: 0m 10s\n",
            "\tTrain Loss: 0.537 | Train Acc: 91.03%\n",
            "\t Val. Loss: 1.114 |  Val. Acc: 90.69%\n",
            "\n",
            "Epoch: 13 | Epoch Time: 0m 10s\n",
            "\tTrain Loss: 0.545 | Train Acc: 91.30%\n",
            "\t Val. Loss: 1.101 |  Val. Acc: 90.58%\n",
            "\n",
            "Epoch: 14 | Epoch Time: 0m 11s\n",
            "\tTrain Loss: 0.540 | Train Acc: 91.70%\n",
            "\t Val. Loss: 1.096 |  Val. Acc: 90.95%\n",
            "\n",
            "Epoch: 15 | Epoch Time: 0m 10s\n",
            "\tTrain Loss: 0.517 | Train Acc: 92.15%\n",
            "\t Val. Loss: 1.082 |  Val. Acc: 90.97%\n",
            "\n",
            "Epoch: 16 | Epoch Time: 0m 11s\n",
            "\tTrain Loss: 0.435 | Train Acc: 92.04%\n",
            "\t Val. Loss: 1.086 |  Val. Acc: 90.90%\n",
            "\n",
            "Epoch: 17 | Epoch Time: 0m 11s\n",
            "\tTrain Loss: 0.447 | Train Acc: 92.36%\n",
            "\t Val. Loss: 1.026 |  Val. Acc: 91.33%\n",
            "\n",
            "Epoch: 18 | Epoch Time: 0m 10s\n",
            "\tTrain Loss: 0.417 | Train Acc: 92.91%\n",
            "\t Val. Loss: 1.019 |  Val. Acc: 91.41%\n",
            "\n",
            "Epoch: 19 | Epoch Time: 0m 11s\n",
            "\tTrain Loss: 0.411 | Train Acc: 92.89%\n",
            "\t Val. Loss: 1.071 |  Val. Acc: 91.25%\n",
            "\n",
            "Epoch: 20 | Epoch Time: 0m 11s\n",
            "\tTrain Loss: 0.400 | Train Acc: 92.89%\n",
            "\t Val. Loss: 1.019 |  Val. Acc: 91.50%\n",
            "\n",
            "Epoch: 21 | Epoch Time: 0m 11s\n",
            "\tTrain Loss: 0.369 | Train Acc: 93.58%\n",
            "\t Val. Loss: 0.996 |  Val. Acc: 91.64%\n",
            "\n",
            "Epoch: 22 | Epoch Time: 0m 11s\n",
            "\tTrain Loss: 0.364 | Train Acc: 93.56%\n",
            "\t Val. Loss: 0.985 |  Val. Acc: 91.85%\n",
            "\n",
            "Epoch: 23 | Epoch Time: 0m 11s\n",
            "\tTrain Loss: 0.346 | Train Acc: 93.95%\n",
            "\t Val. Loss: 1.028 |  Val. Acc: 91.36%\n",
            "\n",
            "Epoch: 24 | Epoch Time: 0m 11s\n",
            "\tTrain Loss: 0.351 | Train Acc: 93.58%\n",
            "\t Val. Loss: 0.987 |  Val. Acc: 91.81%\n",
            "\n",
            "Epoch: 25 | Epoch Time: 0m 11s\n",
            "\tTrain Loss: 0.336 | Train Acc: 94.23%\n",
            "\t Val. Loss: 1.004 |  Val. Acc: 91.74%\n",
            "\n",
            "Epoch: 26 | Epoch Time: 0m 11s\n",
            "\tTrain Loss: 0.316 | Train Acc: 94.19%\n",
            "\t Val. Loss: 0.997 |  Val. Acc: 91.82%\n",
            "\n",
            "Epoch: 27 | Epoch Time: 0m 10s\n",
            "\tTrain Loss: 0.340 | Train Acc: 93.99%\n",
            "\t Val. Loss: 1.003 |  Val. Acc: 91.50%\n",
            "\n",
            "Epoch: 28 | Epoch Time: 0m 11s\n",
            "\tTrain Loss: 0.307 | Train Acc: 94.19%\n",
            "\t Val. Loss: 0.986 |  Val. Acc: 91.99%\n",
            "\n",
            "Epoch: 29 | Epoch Time: 0m 10s\n",
            "\tTrain Loss: 0.316 | Train Acc: 94.67%\n",
            "\t Val. Loss: 1.005 |  Val. Acc: 91.85%\n",
            "\n",
            "Epoch: 30 | Epoch Time: 0m 10s\n",
            "\tTrain Loss: 0.329 | Train Acc: 94.31%\n",
            "\t Val. Loss: 1.031 |  Val. Acc: 91.71%\n",
            "\n",
            "Epoch: 31 | Epoch Time: 0m 10s\n",
            "\tTrain Loss: 0.318 | Train Acc: 94.53%\n",
            "\t Val. Loss: 0.975 |  Val. Acc: 91.97%\n",
            "\n",
            "Epoch: 32 | Epoch Time: 0m 11s\n",
            "\tTrain Loss: 0.296 | Train Acc: 94.68%\n",
            "\t Val. Loss: 1.006 |  Val. Acc: 91.49%\n",
            "\n",
            "Epoch: 33 | Epoch Time: 0m 10s\n",
            "\tTrain Loss: 0.296 | Train Acc: 94.95%\n",
            "\t Val. Loss: 1.020 |  Val. Acc: 91.57%\n",
            "\n",
            "Epoch: 34 | Epoch Time: 0m 10s\n",
            "\tTrain Loss: 0.297 | Train Acc: 94.93%\n",
            "\t Val. Loss: 1.050 |  Val. Acc: 91.72%\n",
            "\n",
            "Epoch: 35 | Epoch Time: 0m 10s\n",
            "\tTrain Loss: 0.308 | Train Acc: 94.91%\n",
            "\t Val. Loss: 1.013 |  Val. Acc: 91.94%\n",
            "\n",
            "Epoch: 36 | Epoch Time: 0m 10s\n",
            "\tTrain Loss: 0.290 | Train Acc: 95.14%\n",
            "\t Val. Loss: 1.095 |  Val. Acc: 91.59%\n",
            "\n",
            "Epoch: 37 | Epoch Time: 0m 11s\n",
            "\tTrain Loss: 0.276 | Train Acc: 94.85%\n",
            "\t Val. Loss: 1.034 |  Val. Acc: 91.94%\n",
            "\n",
            "Epoch: 38 | Epoch Time: 0m 11s\n",
            "\tTrain Loss: 0.264 | Train Acc: 95.18%\n",
            "\t Val. Loss: 1.006 |  Val. Acc: 92.06%\n",
            "\n",
            "Epoch: 39 | Epoch Time: 0m 10s\n",
            "\tTrain Loss: 0.258 | Train Acc: 95.29%\n",
            "\t Val. Loss: 0.999 |  Val. Acc: 92.23%\n",
            "\n",
            "Epoch: 40 | Epoch Time: 0m 11s\n",
            "\tTrain Loss: 0.258 | Train Acc: 95.39%\n",
            "\t Val. Loss: 1.011 |  Val. Acc: 92.00%\n",
            "\n",
            "Epoch: 41 | Epoch Time: 0m 11s\n",
            "\tTrain Loss: 0.264 | Train Acc: 95.43%\n",
            "\t Val. Loss: 1.020 |  Val. Acc: 92.03%\n",
            "\n",
            "Epoch: 42 | Epoch Time: 0m 10s\n",
            "\tTrain Loss: 0.298 | Train Acc: 95.00%\n",
            "\t Val. Loss: 1.030 |  Val. Acc: 91.79%\n",
            "\n",
            "Epoch: 43 | Epoch Time: 0m 10s\n",
            "\tTrain Loss: 0.278 | Train Acc: 95.20%\n",
            "\t Val. Loss: 1.060 |  Val. Acc: 91.74%\n",
            "\n",
            "Epoch: 44 | Epoch Time: 0m 11s\n",
            "\tTrain Loss: 0.261 | Train Acc: 95.19%\n",
            "\t Val. Loss: 1.052 |  Val. Acc: 91.86%\n",
            "\n",
            "Epoch: 45 | Epoch Time: 0m 10s\n",
            "\tTrain Loss: 0.250 | Train Acc: 95.85%\n",
            "\t Val. Loss: 1.023 |  Val. Acc: 92.06%\n",
            "\n",
            "Epoch: 46 | Epoch Time: 0m 12s\n",
            "\tTrain Loss: 0.233 | Train Acc: 95.23%\n",
            "\t Val. Loss: 1.028 |  Val. Acc: 92.26%\n",
            "\n",
            "Epoch: 47 | Epoch Time: 0m 10s\n",
            "\tTrain Loss: 0.248 | Train Acc: 95.62%\n",
            "\t Val. Loss: 1.046 |  Val. Acc: 92.21%\n",
            "\n",
            "Epoch: 48 | Epoch Time: 0m 11s\n",
            "\tTrain Loss: 0.224 | Train Acc: 95.71%\n",
            "\t Val. Loss: 1.052 |  Val. Acc: 92.20%\n",
            "\n",
            "Epoch: 49 | Epoch Time: 0m 11s\n",
            "\tTrain Loss: 0.228 | Train Acc: 95.68%\n",
            "\t Val. Loss: 1.048 |  Val. Acc: 92.20%\n",
            "\n",
            "Epoch: 50 | Epoch Time: 0m 11s\n",
            "\tTrain Loss: 0.215 | Train Acc: 95.84%\n",
            "\t Val. Loss: 1.062 |  Val. Acc: 92.27%\n"
          ],
          "name": "stdout"
        }
      ]
    },
    {
      "cell_type": "code",
      "metadata": {
        "colab": {
          "base_uri": "https://localhost:8080/"
        },
        "id": "mTWfmb81abFl",
        "outputId": "9ca50ca7-da87-4faa-8752-0be33587ad2c"
      },
      "source": [
        "best_epoch = np.argmax(statistics[\"val_acc_values\"]) + 1\n",
        "best_acc_val = statistics[\"val_acc_values\"][best_epoch - 1]\n",
        "print(\"Best val accuracy: {:.3f} epoch: {}.\".format(best_acc_val,best_epoch))"
      ],
      "execution_count": null,
      "outputs": [
        {
          "output_type": "stream",
          "text": [
            "Best val accuracy: 0.923 epoch: 50.\n"
          ],
          "name": "stdout"
        }
      ]
    },
    {
      "cell_type": "markdown",
      "metadata": {
        "id": "Xpiib3mpi0tz"
      },
      "source": [
        "#Evaluation"
      ]
    },
    {
      "cell_type": "markdown",
      "metadata": {
        "id": "UaRCnh46fF1H"
      },
      "source": [
        "In order to choose the best model we performed 10 different runs for each type of architecture, and, to compare them, we took the mean of their validations accuracies obtained on each run. For each run, and for each model, we used the same hyperparameters, in order to have a coherent comparison:\n",
        "\n",
        "- Batch size = 4\n",
        "- Number of epochs = 50\n",
        "- Embedding dimension = 100\n",
        "- Hidden dimension = 64\n",
        "- Learning rate = 0.01\n",
        "\n",
        "\n",
        "The 2 stacked BiLSTM model obtained, on average, a validation accuracy of almost 1 percentage point more than the Baseline and GRU models.\n",
        "\n",
        "It is also worth noticing that the GRU model, even if it is a simplified version of the BiLSTM model, it has quite the same performance. The BiLSTM + CRF model, on average, performs better than the 2 above mentioned models but still not as good as the 2 stacked BiLSTM model."
      ]
    },
    {
      "cell_type": "markdown",
      "metadata": {
        "id": "GNrjKY0HzJsX"
      },
      "source": [
        "## Load the best model"
      ]
    },
    {
      "cell_type": "code",
      "metadata": {
        "colab": {
          "base_uri": "https://localhost:8080/"
        },
        "id": "clB3p3WFzSxP",
        "outputId": "2f043639-7f0a-4b6c-c6d8-820a0b9c9f93"
      },
      "source": [
        "best_model =  BiLSTM2(EMBEDDING_DIM, HIDDEN_DIM, OUTPUT_DIM, N_LAYERS)\n",
        "\n",
        "checkpoint = torch.load(\"BiLSTM2.pt\")\n",
        "best_model.load_state_dict(checkpoint)\n",
        "\n",
        "best_model = best_model.to(device)\n",
        "\n",
        "best_model.eval()"
      ],
      "execution_count": null,
      "outputs": [
        {
          "output_type": "execute_result",
          "data": {
            "text/plain": [
              "BiLSTM2(\n",
              "  (lstm): LSTM(100, 64, num_layers=2, bidirectional=True)\n",
              "  (fc): Linear(in_features=128, out_features=46, bias=True)\n",
              "  (dropout): Dropout(p=0.25, inplace=False)\n",
              ")"
            ]
          },
          "metadata": {
            "tags": []
          },
          "execution_count": 55
        }
      ]
    },
    {
      "cell_type": "markdown",
      "metadata": {
        "id": "fUjGRSQR1Si9"
      },
      "source": [
        "## Compute the F1 Macro Score"
      ]
    },
    {
      "cell_type": "code",
      "metadata": {
        "id": "kT4MgouTzzVc"
      },
      "source": [
        "BATCH_SIZE = len(test_data)\n",
        "\n",
        "# Create the test iterator with a single batch (the test set)\n",
        "test_iterator = data.BucketIterator.splits(\n",
        "    (test_data,), \n",
        "    batch_size = BATCH_SIZE,\n",
        "    device = device)[0]"
      ],
      "execution_count": null,
      "outputs": []
    },
    {
      "cell_type": "code",
      "metadata": {
        "id": "rlviA33F0Pvj"
      },
      "source": [
        "# Get y_true, y_pred\n",
        "y_data = next(iter(test_iterator))\n",
        "y_true = y_data.tags\n",
        "y_true = y_true.view(-1)\n",
        "\n",
        "test_words =  get_text_embedding(y_data.words, TEST_TEXT)\n",
        "\n",
        "y_pred = best_model(test_words)\n",
        "y_pred = y_pred.view(-1, y_pred.shape[-1])\n",
        "y_pred = y_pred.argmax(dim = 1, keepdim = True)\n",
        "\n",
        "# convert tensors to numpy arrays in order to use them in the scikit learn functions\n",
        "if torch.cuda.is_available():\n",
        "  y_true = y_true.cpu().detach().numpy()\n",
        "  y_pred = y_pred.cpu().detach().numpy()\n",
        "else:\n",
        "  y_true = y_true.detach().numpy()\n",
        "  y_pred = y_pred.detach().numpy()"
      ],
      "execution_count": null,
      "outputs": []
    },
    {
      "cell_type": "code",
      "metadata": {
        "colab": {
          "base_uri": "https://localhost:8080/"
        },
        "id": "ujrdkSgzvRhN",
        "outputId": "43e2257b-dbe7-485f-b78f-44d89755bf8c"
      },
      "source": [
        "# visualize the tags and their indexes\n",
        "TB_TAGS.vocab.stoi"
      ],
      "execution_count": null,
      "outputs": [
        {
          "output_type": "execute_result",
          "data": {
            "text/plain": [
              "defaultdict(<function torchtext.vocab._default_unk_index>,\n",
              "            {'#': 43,\n",
              "             '$': 25,\n",
              "             \"''\": 24,\n",
              "             ',': 7,\n",
              "             '-LRB-': 36,\n",
              "             '-RRB-': 35,\n",
              "             '.': 8,\n",
              "             ':': 26,\n",
              "             '<pad>': 0,\n",
              "             'CC': 13,\n",
              "             'CD': 11,\n",
              "             'DT': 4,\n",
              "             'EX': 37,\n",
              "             'FW': 42,\n",
              "             'IN': 3,\n",
              "             'JJ': 6,\n",
              "             'JJR': 28,\n",
              "             'JJS': 32,\n",
              "             'LS': 39,\n",
              "             'MD': 20,\n",
              "             'NN': 1,\n",
              "             'NNP': 2,\n",
              "             'NNPS': 31,\n",
              "             'NNS': 5,\n",
              "             'PDT': 40,\n",
              "             'POS': 23,\n",
              "             'PRP': 17,\n",
              "             'PRP$': 21,\n",
              "             'RB': 10,\n",
              "             'RBR': 34,\n",
              "             'RBS': 38,\n",
              "             'RP': 30,\n",
              "             'SYM': 44,\n",
              "             'TO': 16,\n",
              "             'UH': 45,\n",
              "             'VB': 12,\n",
              "             'VBD': 9,\n",
              "             'VBG': 18,\n",
              "             'VBN': 15,\n",
              "             'VBP': 19,\n",
              "             'VBZ': 14,\n",
              "             'WDT': 27,\n",
              "             'WP': 29,\n",
              "             'WP$': 41,\n",
              "             'WRB': 33,\n",
              "             '``': 22})"
            ]
          },
          "metadata": {
            "tags": []
          },
          "execution_count": 58
        }
      ]
    },
    {
      "cell_type": "markdown",
      "metadata": {
        "id": "FWSKlf6z3uEu"
      },
      "source": [
        "To compute the f1 macro score, we have removed these tags:\n",
        "\n",
        "\n",
        "-   \\<pad\\>\n",
        "-   ,\n",
        "-   .\n",
        "-   ``\n",
        "-   ''\n",
        "-   $\n",
        "-   :\n",
        "-   -RRB-  (right round bracket)\n",
        "-   -LRB-  (left round bracket)\n",
        "-   #\n",
        "-   SYM    (symbols)\n",
        "\n",
        "\n",
        "\n"
      ]
    },
    {
      "cell_type": "code",
      "metadata": {
        "id": "C3mfJxg61p_C"
      },
      "source": [
        "# Get only the indexes of the relevant tags\n",
        "\n",
        "punct_index_list = [0, 7, 8, 22, 24, 25, 26, 35, 36, 43, 44]\n",
        "tags_index = [i for i in range(0,46) if i not in punct_index_list]"
      ],
      "execution_count": null,
      "outputs": []
    },
    {
      "cell_type": "code",
      "metadata": {
        "colab": {
          "base_uri": "https://localhost:8080/"
        },
        "id": "XLNW5J4_i95U",
        "outputId": "30fd924b-d019-4930-decd-002f82e92162"
      },
      "source": [
        "from sklearn.metrics import f1_score\n",
        "\n",
        "f1_macro_score = f1_score(y_true, y_pred, labels=tags_index, average=\"macro\", zero_division=0)\n",
        "print(\"F1 Macro score: {:.4f}\".format(f1_macro_score))"
      ],
      "execution_count": null,
      "outputs": [
        {
          "output_type": "stream",
          "text": [
            "F1 Macro score: 0.7610\n"
          ],
          "name": "stdout"
        }
      ]
    },
    {
      "cell_type": "markdown",
      "metadata": {
        "id": "JtAcVilL-woV"
      },
      "source": [
        "#Error Analysis"
      ]
    },
    {
      "cell_type": "markdown",
      "metadata": {
        "id": "YSHmT0F18Hyd"
      },
      "source": [
        "## Inference\n",
        "\n",
        "Our F1 Macro score looks pretty good, but let's see our model tag some actual sentences."
      ]
    },
    {
      "cell_type": "markdown",
      "metadata": {
        "id": "uK1QsWk18UqQ"
      },
      "source": [
        "We define a `tag_sentence` function which returns the tokens and tags"
      ]
    },
    {
      "cell_type": "code",
      "metadata": {
        "id": "Ki2l83uZ8Hye"
      },
      "source": [
        "def tag_sentence(model, sentence, text_field, tag_field):\n",
        "  \n",
        "  # put the model into evaluation mode\n",
        "  model.eval()\n",
        "\n",
        "  #  tokenize the sentence\n",
        "  tokens = [token for token in sentence]\n",
        "\n",
        "  # lowercase the tokens if the Field did\n",
        "  if text_field.lower:\n",
        "    tokens = [t.lower() for t in tokens]\n",
        "\n",
        "  # numericalize the tokens using the vocabulary    \n",
        "  numericalized_tokens = [text_field.vocab.stoi[t] for t in tokens]\n",
        "  \n",
        "  # convert the numericalized tokens into a tensor and add a batch dimension\n",
        "  token_tensor = torch.LongTensor(numericalized_tokens) \n",
        "  token_tensor = token_tensor.unsqueeze(-1)\n",
        "  token_tensor = torch.stack([text_field.vocab.vectors[word] for word in token_tensor])\n",
        "  \n",
        "  # feed the tensor into the model\n",
        "  predictions = model(token_tensor)\n",
        "  \n",
        "  # get the predictions over the sentence\n",
        "  top_predictions = predictions.argmax(-1)\n",
        "  \n",
        "  # convert the predictions into readable tags\n",
        "  predicted_tags = [tag_field.vocab.itos[t.item()] for t in top_predictions]\n",
        "  \n",
        "  return tokens, predicted_tags"
      ],
      "execution_count": null,
      "outputs": []
    },
    {
      "cell_type": "markdown",
      "metadata": {
        "id": "Sz4NsBiz8Hyw"
      },
      "source": [
        "Let's try to see the performance of the model with a sentence from the test set"
      ]
    },
    {
      "cell_type": "code",
      "metadata": {
        "colab": {
          "base_uri": "https://localhost:8080/"
        },
        "id": "IdYPWat78Hyw",
        "outputId": "4e786fea-d132-421e-a7b9-3ac4ae703162"
      },
      "source": [
        "#@title Show Predictions { run: \"auto\", display-mode: \"form\" }\n",
        "example_index = 30 #@param {type:\"slider\", min:0, max:48, step:1}\n",
        "\n",
        "sentence = vars(test_data.examples[example_index])[\"words\"]\n",
        "actual_tags = vars(test_data.examples[example_index])[\"tags\"]\n",
        "\n",
        "tokens, pred_tags = tag_sentence(best_model, sentence, TEST_TEXT, TB_TAGS)\n",
        "print(\"Pred. Tag\\tActual Tag\\tCorrect?\\tToken\\n\")\n",
        "\n",
        "for token, pred_tag, actual_tag in zip(tokens, pred_tags, actual_tags):\n",
        "  correct = \"✔\" if pred_tag == actual_tag else \"✘\"\n",
        "  print(f\"{pred_tag}\\t\\t{actual_tag}\\t\\t{correct}\\t\\t{token}\")\n"
      ],
      "execution_count": null,
      "outputs": [
        {
          "output_type": "stream",
          "text": [
            "Pred. Tag\tActual Tag\tCorrect?\tToken\n",
            "\n",
            "DT\t\tDT\t\t✔\t\tthe\n",
            "NNP\t\tNNP\t\t✔\t\tbush\n",
            "NN\t\tNN\t\t✔\t\tadministration\n",
            "POS\t\tPOS\t\t✔\t\t's\n",
            "NN\t\tNN\t\t✔\t\tnomination\n",
            "IN\t\tIN\t\t✔\t\tof\n",
            "NNP\t\tNNP\t\t✔\t\tclarence\n",
            "NNP\t\tNNP\t\t✔\t\tthomas\n",
            "TO\t\tTO\t\t✔\t\tto\n",
            "DT\t\tDT\t\t✔\t\ta\n",
            "NN\t\tNN\t\t✔\t\tseat\n",
            "IN\t\tIN\t\t✔\t\ton\n",
            "DT\t\tDT\t\t✔\t\tthe\n",
            "NNP\t\tJJ\t\t✘\t\tfederal\n",
            "NNP\t\tNNS\t\t✘\t\tappeals\n",
            "NNP\t\tNN\t\t✘\t\tcourt\n",
            "RB\t\tRB\t\t✔\t\there\n",
            "VBD\t\tVBD\t\t✔\t\treceived\n",
            "DT\t\tDT\t\t✔\t\ta\n",
            "NN\t\tNN\t\t✔\t\tblow\n",
            "DT\t\tDT\t\t✔\t\tthis\n",
            "NN\t\tNN\t\t✔\t\tweek\n",
            "WRB\t\tWRB\t\t✔\t\twhen\n",
            "DT\t\tDT\t\t✔\t\tthe\n",
            "NNP\t\tNNP\t\t✔\t\tamerican\n",
            "NNP\t\tNNP\t\t✔\t\tbar\n",
            "NNP\t\tNNP\t\t✔\t\tassociation\n",
            "VBD\t\tVBD\t\t✔\t\tgave\n",
            "NNP\t\tNNP\t\t✔\t\tmr.\n",
            "NNP\t\tNNP\t\t✔\t\tthomas\n",
            "RB\t\tRB\t\t✔\t\tonly\n",
            "DT\t\tDT\t\t✔\t\ta\n",
            "``\t\t``\t\t✔\t\t``\n",
            "NNS\t\tJJ\t\t✘\t\tqualified\n",
            "''\t\t''\t\t✔\t\t''\n",
            "NN\t\tNN\t\t✔\t\trating\n",
            ",\t\t,\t\t✔\t\t,\n",
            "RB\t\tRB\t\t✔\t\trather\n",
            "IN\t\tIN\t\t✔\t\tthan\n",
            "``\t\t``\t\t✔\t\t``\n",
            "RB\t\tRB\t\t✔\t\twell\n",
            "JJ\t\tVBN\t\t✘\t\tqualified\n",
            ".\t\t.\t\t✔\t\t.\n",
            "''\t\t''\t\t✔\t\t''\n",
            "NNS\t\tNNS\t\t✔\t\tpeople\n",
            "VBP\t\tJJ\t\t✘\t\tfamiliar\n",
            "IN\t\tIN\t\t✔\t\twith\n",
            "DT\t\tDT\t\t✔\t\tthe\n",
            "NNP\t\tNNP\t\t✔\t\tsenate\n",
            "NNP\t\tNNP\t\t✔\t\tjudiciary\n",
            "NNP\t\tNNP\t\t✔\t\tcommittee\n",
            ",\t\t,\t\t✔\t\t,\n",
            "WDT\t\tWDT\t\t✔\t\twhich\n",
            "MD\t\tMD\t\t✔\t\twill\n",
            "VB\t\tVB\t\t✔\t\tvote\n",
            "IN\t\tIN\t\t✔\t\ton\n",
            "DT\t\tDT\t\t✔\t\tthe\n",
            "NN\t\tNN\t\t✔\t\tnomination\n",
            ",\t\t,\t\t✔\t\t,\n",
            "VBD\t\tVBD\t\t✔\t\tsaid\n",
            "DT\t\tDT\t\t✔\t\tsome\n",
            "JJ\t\tJJ\t\t✔\t\tliberal\n",
            "NNS\t\tNNS\t\t✔\t\tmembers\n",
            "IN\t\tIN\t\t✔\t\tof\n",
            "DT\t\tDT\t\t✔\t\tthe\n",
            "NN\t\tNN\t\t✔\t\tpanel\n",
            "VBP\t\tVBP\t\t✔\t\tare\n",
            "JJ\t\tJJ\t\t✔\t\tlikely\n",
            "TO\t\tTO\t\t✔\t\tto\n",
            "VB\t\tVB\t\t✔\t\tquestion\n",
            "DT\t\tDT\t\t✔\t\tthe\n",
            "NNP\t\tNNP\t\t✔\t\taba\n",
            "NN\t\tNN\t\t✔\t\trating\n",
            "IN\t\tIN\t\t✔\t\tin\n",
            "NNS\t\tNNS\t\t✔\t\thearings\n",
            "IN\t\tIN\t\t✔\t\ton\n",
            "DT\t\tDT\t\t✔\t\tthe\n",
            "NN\t\tNN\t\t✔\t\tmatter\n",
            ".\t\t.\t\t✔\t\t.\n",
            "NNP\t\tNNP\t\t✔\t\tmr.\n",
            "NNP\t\tNNP\t\t✔\t\tthomas\n",
            ",\t\t,\t\t✔\t\t,\n",
            "RB\t\tRB\t\t✔\t\tcurrently\n",
            "NN\t\tNN\t\t✔\t\tchairman\n",
            "IN\t\tIN\t\t✔\t\tof\n",
            "DT\t\tDT\t\t✔\t\tthe\n",
            "NNP\t\tNNP\t\t✔\t\tequal\n",
            "NNP\t\tNNP\t\t✔\t\temployment\n",
            "NNP\t\tNNP\t\t✔\t\topportunity\n",
            "NNP\t\tNNP\t\t✔\t\tcommission\n",
            ",\t\t,\t\t✔\t\t,\n",
            "MD\t\tMD\t\t✔\t\twould\n",
            "VB\t\tVB\t\t✔\t\tadd\n",
            "DT\t\tDT\t\t✔\t\tanother\n",
            "JJ\t\tJJ\t\t✔\t\tconservative\n",
            "NN\t\tNN\t\t✔\t\tvoice\n",
            "TO\t\tTO\t\t✔\t\tto\n",
            "DT\t\tDT\t\t✔\t\tthe\n",
            "RB\t\tRB\t\t✔\t\tclosely\n",
            "VBN\t\tVBN\t\t✔\t\tdivided\n",
            "NN\t\tNN\t\t✔\t\tcourt\n",
            ".\t\t.\t\t✔\t\t.\n",
            "NNS\t\tNNS\t\t✔\t\tgroups\n",
            "VBP\t\tVBP\t\t✔\t\thave\n",
            "VBN\t\tVBN\t\t✔\t\taccused\n",
            "PRP\t\tPRP\t\t✔\t\thim\n",
            "IN\t\tIN\t\t✔\t\tof\n",
            "VBG\t\tVBG\t\t✔\t\tadvocating\n",
            "NNS\t\tNNS\t\t✔\t\tpolicies\n",
            "IN\t\tWDT\t\t✘\t\tthat\n",
            "VBN\t\tVBD\t\t✘\t\tnarrowed\n",
            "NNS\t\tNNS\t\t✔\t\trights\n",
            "IN\t\tIN\t\t✔\t\tof\n",
            "JJR\t\tJJR\t\t✔\t\tolder\n",
            "NNS\t\tNNS\t\t✔\t\tworkers\n",
            "CC\t\tCC\t\t✔\t\tand\n",
            "IN\t\tIN\t\t✔\t\tof\n",
            "VBG\t\tVBG\t\t✔\t\tignoring\n",
            "NN\t\tNN\t\t✔\t\tdiscrimination\n",
            "IN\t\tIN\t\t✔\t\tby\n",
            "JJ\t\tJJ\t\t✔\t\tlarge\n",
            "NNS\t\tNNS\t\t✔\t\tcompanies\n",
            ".\t\t.\t\t✔\t\t.\n",
            "CD\t\tCD\t\t✔\t\tfourteen\n",
            "NNS\t\tNNS\t\t✔\t\tmembers\n",
            "IN\t\tIN\t\t✔\t\tof\n",
            "DT\t\tDT\t\t✔\t\tthe\n",
            "NNP\t\tNNP\t\t✔\t\thouse\n",
            "IN\t\tIN\t\t✔\t\twith\n",
            "NN\t\tNN\t\t✔\t\tjurisdiction\n",
            "IN\t\tIN\t\t✔\t\tover\n",
            "DT\t\tDT\t\t✔\t\tthe\n",
            "NNP\t\tNNP\t\t✔\t\teeoc\n",
            "VBP\t\tVBP\t\t✔\t\thave\n",
            "VBD\t\tVBN\t\t✘\t\tsaid\n",
            "PRP\t\tPRP\t\t✔\t\tthey\n",
            "VBP\t\tVBP\t\t✔\t\toppose\n",
            "NNP\t\tNNP\t\t✔\t\tmr.\n",
            "NNP\t\tNNP\t\t✔\t\tthomas\n",
            "POS\t\tPOS\t\t✔\t\t's\n",
            "NN\t\tNN\t\t✔\t\tnomination\n",
            "IN\t\tIN\t\t✔\t\tbecause\n",
            "IN\t\tIN\t\t✔\t\tof\n",
            "``\t\t``\t\t✔\t\t``\n",
            "JJ\t\tJJ\t\t✔\t\tserious\n",
            "NNS\t\tNNS\t\t✔\t\tquestions\n",
            "IN\t\tIN\t\t✔\t\tabout\n",
            "PRP$\t\tPRP$\t\t✔\t\this\n",
            "NN\t\tNN\t\t✔\t\tjudgment\n",
            "NNS\t\t-LRB-\t\t✘\t\t-lcb-\n",
            "CC\t\tCC\t\t✔\t\tand\n",
            "VB\t\t-RRB-\t\t✘\t\t-rcb-\n",
            "NN\t\tNN\t\t✔\t\trespect\n",
            "IN\t\tIN\t\t✔\t\tfor\n",
            "DT\t\tDT\t\t✔\t\tthe\n",
            "NN\t\tNN\t\t✔\t\tlaw\n",
            ".\t\t.\t\t✔\t\t.\n",
            "''\t\t''\t\t✔\t\t''\n",
            "DT\t\tDT\t\t✔\t\ta\n",
            "JJ\t\tJJ\t\t✔\t\tsenior\n",
            "NNP\t\tNNP\t\t✔\t\tjustice\n",
            "NNP\t\tNNP\t\t✔\t\tdepartment\n",
            "NN\t\tNN\t\t✔\t\tofficial\n",
            ",\t\t,\t\t✔\t\t,\n",
            "RB\t\tRB\t\t✔\t\thowever\n",
            ",\t\t,\t\t✔\t\t,\n",
            "VBD\t\tVBD\t\t✔\t\tsaid\n",
            "DT\t\tDT\t\t✔\t\tthe\n",
            "NN\t\tNN\t\t✔\t\tadministration\n",
            "VBZ\t\tVBZ\t\t✔\t\tis\n",
            "RB\t\tRB\t\t✔\t\tn't\n",
            "VBN\t\tVBN\t\t✔\t\tworried\n",
            "IN\t\tIN\t\t✔\t\tabout\n",
            "DT\t\tDT\t\t✔\t\tthe\n",
            "NNP\t\tNNP\t\t✔\t\taba\n",
            "NN\t\tNN\t\t✔\t\trating\n",
            ".\t\t.\t\t✔\t\t.\n",
            "``\t\t``\t\t✔\t\t``\n",
            "PRP\t\tPRP\t\t✔\t\twe\n",
            "VBP\t\tVBP\t\t✔\t\t're\n",
            "VBN\t\tVBN\t\t✔\t\tpleased\n",
            "DT\t\tDT\t\t✔\t\tthe\n",
            "NNP\t\tNNP\t\t✔\t\taba\n",
            "NNP\t\tVBD\t\t✘\t\trated\n",
            "PRP\t\tPRP\t\t✔\t\thim\n",
            "NN\t\tVBN\t\t✘\t\tqualified\n",
            ",\t\t,\t\t✔\t\t,\n",
            "''\t\t''\t\t✔\t\t''\n",
            "NNP\t\tNNP\t\t✔\t\tdavid\n",
            "NNP\t\tNNP\t\t✔\t\trunkel\n",
            ",\t\t,\t\t✔\t\t,\n",
            "DT\t\tDT\t\t✔\t\tthe\n",
            "NN\t\tNN\t\t✔\t\tdepartment\n",
            "POS\t\tPOS\t\t✔\t\t's\n",
            "NN\t\tNN\t\t✔\t\tchief\n",
            "NN\t\tNN\t\t✔\t\tspokesman\n",
            ",\t\t,\t\t✔\t\t,\n",
            "VBD\t\tVBD\t\t✔\t\tsaid\n",
            "IN\t\tIN\t\t✔\t\tin\n",
            "DT\t\tDT\t\t✔\t\tan\n",
            "NN\t\tNN\t\t✔\t\tinterview\n",
            ".\t\t.\t\t✔\t\t.\n",
            "DT\t\tDT\t\t✔\t\tthe\n",
            "NNP\t\tNNP\t\t✔\t\taba\n",
            "VBZ\t\tVBZ\t\t✔\t\tgives\n",
            "DT\t\tDT\t\t✔\t\ta\n",
            "``\t\t``\t\t✔\t\t``\n",
            "NNS\t\tVBN\t\t✘\t\tqualified\n",
            "''\t\t''\t\t✔\t\t''\n",
            "NNS\t\tVBG\t\t✘\t\trating\n",
            "TO\t\tTO\t\t✔\t\tto\n",
            "VB\t\tNNS\t\t✘\t\tnominees\n",
            "PRP\t\tPRP\t\t✔\t\tit\n",
            "VBZ\t\tVBZ\t\t✔\t\tbelieves\n",
            "MD\t\tMD\t\t✔\t\twould\n",
            "VB\t\tVB\t\t✔\t\tperform\n",
            "``\t\t``\t\t✔\t\t``\n",
            "RB\t\tRB\t\t✔\t\tsatisfactorily\n",
            "''\t\t''\t\t✔\t\t''\n",
            "IN\t\tIN\t\t✔\t\ton\n",
            "DT\t\tDT\t\t✔\t\tthe\n",
            "NN\t\tNN\t\t✔\t\tbench\n",
            ".\t\t.\t\t✔\t\t.\n",
            "IN\t\tIN\t\t✔\t\tin\n",
            "NN\t\tNN\t\t✔\t\tcontrast\n",
            ",\t\t,\t\t✔\t\t,\n",
            "DT\t\tDT\t\t✔\t\tthe\n",
            "NNPS\t\tNNS\t\t✘\t\tlawyers\n",
            "POS\t\tPOS\t\t✔\t\t'\n",
            "NNP\t\tNN\t\t✘\t\tassociation\n",
            "VBZ\t\tVBZ\t\t✔\t\tgives\n",
            "DT\t\tDT\t\t✔\t\ta\n",
            "``\t\t``\t\t✔\t\t``\n",
            "RB\t\tRB\t\t✔\t\twell\n",
            "JJ\t\tVBN\t\t✘\t\tqualified\n",
            "''\t\t''\t\t✔\t\t''\n",
            "NNS\t\tNN\t\t✘\t\trating\n",
            "TO\t\tTO\t\t✔\t\tto\n",
            "DT\t\tDT\t\t✔\t\tthose\n",
            "``\t\t``\t\t✔\t\t``\n",
            "VBN\t\tVBN\t\t✔\t\tregarded\n",
            "IN\t\tIN\t\t✔\t\tas\n",
            "CD\t\tCD\t\t✔\t\tone\n",
            "IN\t\tIN\t\t✔\t\tof\n",
            "DT\t\tDT\t\t✔\t\tthe\n",
            "JJS\t\tJJS\t\t✔\t\tbest\n",
            "NN\t\tJJ\t\t✘\t\tavailable\n",
            "IN\t\tIN\t\t✔\t\tfor\n",
            "DT\t\tDT\t\t✔\t\tthe\n",
            "NN\t\tNN\t\t✔\t\tvacancy\n",
            ".\t\t.\t\t✔\t\t.\n"
          ],
          "name": "stdout"
        }
      ]
    },
    {
      "cell_type": "markdown",
      "metadata": {
        "id": "J2vr-B9R6tPF"
      },
      "source": [
        "From this simple inference example, we can see that most of the predictions are correct but in some cases the model misses the true tag. To have a better visualization of the errors, we have computed and plotted also the confusion matrix"
      ]
    },
    {
      "cell_type": "markdown",
      "metadata": {
        "id": "FSyScJvJ-_2g"
      },
      "source": [
        "##Confusion Matrix"
      ]
    },
    {
      "cell_type": "code",
      "metadata": {
        "id": "oOXBGayi7iPl"
      },
      "source": [
        "def plot_confusion_matrix(cm, classes, normalize=False, title=\"Confusion matrix\", cmap=plt.cm.Blues):\n",
        "  if normalize:\n",
        "    cm = cm.astype(\"float\") / cm.sum(axis=1)[:, np.newaxis]\n",
        "    print(\"Normalized confusion matrix\")\n",
        "  else:\n",
        "    print(\"Confusion matrix, without normalization\")\n",
        "\n",
        "  plt.imshow(cm, interpolation=\"nearest\", cmap=cmap)\n",
        "  plt.title(title)\n",
        "  plt.colorbar()\n",
        "  tick_marks = np.arange(len(classes))\n",
        "  plt.xticks(tick_marks, classes, rotation=45)\n",
        "  plt.yticks(tick_marks, classes)\n",
        "\n",
        "  fmt = \".2f\" if normalize else \"d\"\n",
        "  thresh = cm.max() / 2.\n",
        "  for i, j in itertools.product(range(cm.shape[0]), range(cm.shape[1])):\n",
        "      plt.text(j, i, format(cm[i, j], fmt), horizontalalignment=\"center\", color=\"white\" if cm[i, j] > thresh else \"black\")\n",
        "\n",
        "  plt.tight_layout()\n",
        "  plt.ylabel(\"True label\")\n",
        "  plt.xlabel(\"Predicted label\")"
      ],
      "execution_count": null,
      "outputs": []
    },
    {
      "cell_type": "code",
      "metadata": {
        "id": "ps_PpPUf5zTU",
        "colab": {
          "base_uri": "https://localhost:8080/",
          "height": 1000
        },
        "outputId": "eefb042b-d917-416d-ff52-7bf82c9ba7cc"
      },
      "source": [
        "from sklearn.metrics import confusion_matrix\n",
        "\n",
        "tags_list = [TB_TAGS.vocab.itos[i] for i in tags_index]\n",
        "\n",
        "confusion_matrix = confusion_matrix(y_true, y_pred, labels = tags_index)\n",
        "\n",
        "plt.figure(figsize=(20,20))\n",
        "plot_confusion_matrix(confusion_matrix, tags_list, normalize=True)\n"
      ],
      "execution_count": null,
      "outputs": [
        {
          "output_type": "stream",
          "text": [
            "Normalized confusion matrix\n"
          ],
          "name": "stdout"
        },
        {
          "output_type": "stream",
          "text": [
            "/usr/local/lib/python3.6/dist-packages/ipykernel_launcher.py:3: RuntimeWarning: invalid value encountered in true_divide\n",
            "  This is separate from the ipykernel package so we can avoid doing imports until\n"
          ],
          "name": "stderr"
        },
        {
          "output_type": "display_data",
          "data": {
            "image/png": "[encoded data removed]",
            "text/plain": [
              "<Figure size 1440x1440 with 2 Axes>"
            ]
          },
          "metadata": {
            "tags": [],
            "needs_background": "light"
          }
        }
      ]
    },
    {
      "cell_type": "markdown",
      "metadata": {
        "id": "owE5kwvn7ofu"
      },
      "source": [
        "From the confusion matrix, it can be noticed that most of the tags are correctly predicted but the model seems to have troubles when predicting NNPS tags (proper plural nouns); the model, most of the times, misclassifies them with NNP (proper singular nouns) and NNS (plural nouns) tags and it is understandable. We worked with lowercase words since we have seen an improvement in the accuracy, but probably this has influenced some misclassification of proper nouns.\n",
        "\n",
        "Another tags with low prediction performances, it is the PDT one (predeterminers), but this is probably due to its low frequency in the training set (just 9 occurrencies); however, in the test set, it is confused half of the times (2 out of 4) with DT tag (determiners).\n",
        "\n",
        "Additionaly, it can be seen from the plot that some tags which are not present in the test set, produce nans values in the confusion matrix (LS, FW and UH)."
      ]
    },
    {
      "cell_type": "markdown",
      "metadata": {
        "id": "Q9qaOsbwBqQO"
      },
      "source": [
        "##Classification Report"
      ]
    },
    {
      "cell_type": "markdown",
      "metadata": {
        "id": "tSjGcfevB-ET"
      },
      "source": [
        "To have even a more in-depth view of the single tags performances, we compute a classifation report which includes, for each tag, precision, recall, and f1-score metrics.\n",
        "The above considerations about the misclassification of proper nouns are here highlighted (NNP -> 2, NNPS -> 31)."
      ]
    },
    {
      "cell_type": "code",
      "metadata": {
        "id": "918hbGHFB0IS",
        "colab": {
          "base_uri": "https://localhost:8080/"
        },
        "outputId": "f4d9d1b0-2f3e-4c11-f92f-d3a3e49e8da7"
      },
      "source": [
        "from sklearn.metrics import classification_report\n",
        "report = classification_report(y_true, y_pred, labels=tags_index, zero_division=0)\n",
        "print(report)"
      ],
      "execution_count": null,
      "outputs": [
        {
          "output_type": "stream",
          "text": [
            "              precision    recall  f1-score   support\n",
            "\n",
            "           1       0.90      0.90      0.90      2383\n",
            "           2       0.02      0.89      0.04      1504\n",
            "           3       0.98      0.98      0.98      1630\n",
            "           4       0.99      0.99      0.99      1335\n",
            "           5       0.90      0.91      0.90       941\n",
            "           6       0.80      0.85      0.82       918\n",
            "           9       0.93      0.97      0.95       634\n",
            "          10       0.87      0.91      0.89       381\n",
            "          11       0.98      0.93      0.95       858\n",
            "          12       0.94      0.96      0.95       403\n",
            "          13       0.99      1.00      1.00       366\n",
            "          14       0.94      0.96      0.95       280\n",
            "          15       0.91      0.78      0.84       366\n",
            "          16       1.00      1.00      1.00       386\n",
            "          17       1.00      0.99      0.99       192\n",
            "          18       0.84      0.85      0.84       221\n",
            "          19       0.90      0.92      0.91       134\n",
            "          20       0.97      0.99      0.98       167\n",
            "          21       1.00      1.00      1.00        99\n",
            "          23       0.99      1.00      1.00       152\n",
            "          27       0.98      0.96      0.97        84\n",
            "          28       0.83      0.68      0.75        59\n",
            "          29       0.91      1.00      0.95        20\n",
            "          30       0.60      0.85      0.70        33\n",
            "          31       0.29      0.05      0.08        44\n",
            "          32       1.00      0.94      0.97        31\n",
            "          33       1.00      0.83      0.91        24\n",
            "          34       0.35      0.53      0.42        15\n",
            "          37       1.00      1.00      1.00         5\n",
            "          38       1.00      1.00      1.00         3\n",
            "          39       0.00      0.00      0.00         0\n",
            "          40       0.00      0.00      0.00         4\n",
            "          41       1.00      1.00      1.00         4\n",
            "          42       0.00      0.00      0.00         0\n",
            "          45       0.00      0.00      0.00         0\n",
            "\n",
            "   micro avg       0.18      0.92      0.30     13676\n",
            "   macro avg       0.77      0.79      0.76     13676\n",
            "weighted avg       0.83      0.92      0.83     13676\n",
            "\n"
          ],
          "name": "stdout"
        }
      ]
    },
    {
      "cell_type": "markdown",
      "metadata": {
        "id": "SyPDNB56UhmM"
      },
      "source": [
        "# Credits\n",
        "\n",
        "Alex Rossi: alex.rossi6@studio.unibo.it\n",
        "\n",
        "Simone Gayed Said: simone.gayed@studio.unibo.it\n"
      ]
    },
    {
      "cell_type": "code",
      "metadata": {
        "id": "SCJ5a_TWdEXZ"
      },
      "source": [
        ""
      ],
      "execution_count": null,
      "outputs": []
    }
  ]
}